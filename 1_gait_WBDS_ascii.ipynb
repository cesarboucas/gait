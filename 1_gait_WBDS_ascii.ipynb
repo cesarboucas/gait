{
  "nbformat": 4,
  "nbformat_minor": 0,
  "metadata": {
    "colab": {
      "name": "1. gait WBDS ascii.ipynb",
      "version": "0.3.2",
      "provenance": [],
      "collapsed_sections": [
        "zLHXq2eHJrmh",
        "281xV1NKRSFU"
      ],
      "include_colab_link": true
    },
    "kernelspec": {
      "name": "python3",
      "display_name": "Python 3"
    }
  },
  "cells": [
    {
      "cell_type": "markdown",
      "metadata": {
        "id": "view-in-github",
        "colab_type": "text"
      },
      "source": [
        "<a href=\"https://colab.research.google.com/github/cesarboucas/gait/blob/master/1_gait_WBDS_ascii.ipynb\" target=\"_parent\"><img src=\"https://colab.research.google.com/assets/colab-badge.svg\" alt=\"Open In Colab\"/></a>"
      ]
    },
    {
      "cell_type": "markdown",
      "metadata": {
        "id": "qQ3rI_8byq82",
        "colab_type": "text"
      },
      "source": [
        "#Roadmap:\n",
        "1. Download and visualize the data\n",
        "2. Train-test split by subject\n",
        "3. Time Series Generation\n",
        "4. Time Series Classification\n",
        "5. Generate synthetic time series and repeat step 4 using the synthetic data to augment the train set\n",
        "6. Results"
      ]
    },
    {
      "cell_type": "markdown",
      "metadata": {
        "id": "rma4mAlrPkNv",
        "colab_type": "text"
      },
      "source": [
        "# 1. Download and visualize the data \n",
        "\n",
        "---\n",
        "\n",
        "Data of the [Walking Biomechanics Dataset](https://figshare.com/articles/A_public_data_set_of_overground_and_treadmill_walking_kinematics_and_kinetics_of_healthy_individuals/5722711) \n",
        "\n",
        "The reference work used Cortex software version 6.0  to acquire data of each participant subject that walked for 90s at eight gait-speeds. Data were recorded for the last 30s of each trial. \n",
        "\n",
        "Such ASCII files provides \"the ensemble average data for each participant throughout the full gait cycle (101 time-normalized points), which correspond to the time-normalized angles (pelvis, hip, knee, ankle, and foot), joint moments (hip, knee, and ankle), and GRF forces in the X, Y, and Z directions.\" More details [here](https://peerj.com/articles/4640/#supplemental-information)."
      ]
    },
    {
      "cell_type": "code",
      "metadata": {
        "id": "Ynlq1Qsk8cp_",
        "colab_type": "code",
        "outputId": "61a8cc3d-2c60-4e6a-80ce-5bc31f959a24",
        "colab": {
          "base_uri": "https://localhost:8080/",
          "height": 182
        }
      },
      "source": [
        "!pip install wget"
      ],
      "execution_count": 0,
      "outputs": [
        {
          "output_type": "stream",
          "text": [
            "Collecting wget\n",
            "  Downloading https://files.pythonhosted.org/packages/47/6a/62e288da7bcda82b935ff0c6cfe542970f04e29c756b0e147251b2fb251f/wget-3.2.zip\n",
            "Building wheels for collected packages: wget\n",
            "  Building wheel for wget (setup.py) ... \u001b[?25l\u001b[?25hdone\n",
            "  Created wheel for wget: filename=wget-3.2-cp36-none-any.whl size=9681 sha256=14f97dd7525330fb4d1b9f207f27a002831482d0e82e2f8972582af6e10249da\n",
            "  Stored in directory: /root/.cache/pip/wheels/40/15/30/7d8f7cea2902b4db79e3fea550d7d7b85ecb27ef992b618f3f\n",
            "Successfully built wget\n",
            "Installing collected packages: wget\n",
            "Successfully installed wget-3.2\n"
          ],
          "name": "stdout"
        }
      ]
    },
    {
      "cell_type": "code",
      "metadata": {
        "id": "m-Ahsg7yIQrG",
        "colab_type": "code",
        "outputId": "12652bf8-90b5-468e-9b6e-bc6cf6d2dd3b",
        "colab": {
          "base_uri": "https://localhost:8080/"
        }
      },
      "source": [
        "!pip install tslearn"
      ],
      "execution_count": 0,
      "outputs": [
        {
          "output_type": "stream",
          "text": [
            "Collecting tslearn\n",
            "\u001b[?25l  Downloading https://files.pythonhosted.org/packages/f3/bb/f63c690ee0d6f3b0b3defb4208579af3ef120aa9c2543d327af9c23e93d7/tslearn-0.2.2.tar.gz (520kB)\n",
            "\u001b[K     |████████████████████████████████| 522kB 2.8MB/s \n",
            "\u001b[?25hRequirement already satisfied: numpy in /usr/local/lib/python3.6/dist-packages (from tslearn) (1.16.4)\n",
            "Requirement already satisfied: scipy in /usr/local/lib/python3.6/dist-packages (from tslearn) (1.3.1)\n",
            "Requirement already satisfied: scikit-learn in /usr/local/lib/python3.6/dist-packages (from tslearn) (0.21.3)\n",
            "Requirement already satisfied: Cython in /usr/local/lib/python3.6/dist-packages (from tslearn) (0.29.13)\n",
            "Requirement already satisfied: numba in /usr/local/lib/python3.6/dist-packages (from tslearn) (0.40.1)\n",
            "Requirement already satisfied: joblib>=0.11 in /usr/local/lib/python3.6/dist-packages (from scikit-learn->tslearn) (0.13.2)\n",
            "Requirement already satisfied: llvmlite>=0.25.0dev0 in /usr/local/lib/python3.6/dist-packages (from numba->tslearn) (0.29.0)\n",
            "Building wheels for collected packages: tslearn\n",
            "  Building wheel for tslearn (setup.py) ... \u001b[?25l\u001b[?25hdone\n",
            "  Created wheel for tslearn: filename=tslearn-0.2.2-cp36-cp36m-linux_x86_64.whl size=801377 sha256=30e6b86504d95abfd36f202ede6ebda4a89fda4a923aee7b36735f5d800b5489\n",
            "  Stored in directory: /root/.cache/pip/wheels/e5/7f/ba/cf984e0e778fae5640d7f4173ec75ce460ad6bbd4eafdae458\n",
            "Successfully built tslearn\n",
            "Installing collected packages: tslearn\n",
            "Successfully installed tslearn-0.2.2\n"
          ],
          "name": "stdout"
        }
      ]
    },
    {
      "cell_type": "code",
      "metadata": {
        "id": "fsQrWsYUG7Bk",
        "colab_type": "code",
        "outputId": "3ed6c995-ea21-4eb8-e245-d9df5769cb91",
        "colab": {
          "base_uri": "https://localhost:8080/",
          "height": 74
        }
      },
      "source": [
        "import wget\n",
        "import os\n",
        "import random\n",
        "import pandas as pd\n",
        "import numpy as np\n",
        "from zipfile import ZipFile\n",
        "import matplotlib.pyplot as plt\n",
        "from mpl_toolkits.mplot3d import Axes3D\n",
        "import glob\n",
        "import keras\n",
        "from sklearn import preprocessing\n",
        "from sklearn.model_selection import train_test_split\n",
        "from sklearn.metrics import accuracy_score\n",
        "from sklearn.metrics import mean_squared_error\n",
        "from scipy import stats\n",
        "# to display an image from a file in the notebook\n",
        "#from IPython.display import FileLink\n",
        "\n",
        "# to render figures in the notebook\n",
        "#%matplotlib inline\n",
        "\n",
        "print(plt.style.available)\n",
        "plt.style.use('dark_background')\n",
        "#with plt.style.context('dark_background'):"
      ],
      "execution_count": 0,
      "outputs": [
        {
          "output_type": "stream",
          "text": [
            "Using TensorFlow backend.\n"
          ],
          "name": "stderr"
        },
        {
          "output_type": "stream",
          "text": [
            "['seaborn-muted', 'seaborn-darkgrid', 'ggplot', 'dark_background', 'seaborn-colorblind', 'seaborn-deep', 'bmh', 'seaborn-poster', 'seaborn-notebook', 'seaborn-dark', 'seaborn-whitegrid', 'seaborn-paper', 'Solarize_Light2', 'seaborn-dark-palette', 'seaborn-ticks', 'fast', 'seaborn-bright', 'classic', 'seaborn', 'seaborn-white', 'seaborn-pastel', 'seaborn-talk', 'tableau-colorblind10', 'fivethirtyeight', '_classic_test', 'grayscale']\n"
          ],
          "name": "stdout"
        }
      ]
    },
    {
      "cell_type": "code",
      "metadata": {
        "id": "l86KPgbu9q99",
        "colab_type": "code",
        "outputId": "6abc220b-486a-4804-b4ed-7cb6ed5151a8",
        "colab": {
          "base_uri": "https://localhost:8080/",
          "height": 219
        }
      },
      "source": [
        "# Download data\n",
        "#https://peerj.com/articles/4640/\n",
        "#https://figshare.com/articles/A_public_data_set_of_overground_and_treadmill_walking_kinematics_and_kinetics_of_healthy_individuals/5722711\n",
        "WBDSinfo = 'https://ndownloader.figshare.com/files/10097319'\n",
        "WBDSascii = 'https://ndownloader.figshare.com/files/10058986'\n",
        "WBDSc3d = 'https://ndownloader.figshare.com/files/10058995'\n",
        "WBDSc3dWithGaitEvents = 'https://ndownloader.figshare.com/files/12403928'\n",
        "\n",
        "# The metadata file, WBDSinfo.xlsx, provides a full description of the files.\n",
        "# WBDSinfo.xlsx file has 17 columns and 6,916 rows, corresponding to the total number of trials; \n",
        "# The rows represent the static trial (*static1), the eight trials on the treadmill (*walkT01–T08), \n",
        "# and the overground trials at the slow (*S), comfortable (*C), and fast (*F) speeds. \n",
        "# The processed files of kinematics (*ang.txt) and kinetic (*knt.txt) data are also included. \n",
        "# The number of rows varies for each participant, depending on the number of overground trials.\n",
        "filename = wget.download(url=WBDSinfo, out='WBDSinfo')\n",
        "meta = pd.read_excel(filename)\n",
        "os.remove(filename)\n",
        "\n",
        "# Convert the Gender column from string to int and \n",
        "# Keep the original values in a new column\n",
        "meta['GenderOriginal'] = meta['Gender']\n",
        "meta['GaitSpeed(m/s)Original'] = meta['GaitSpeed(m/s)']\n",
        "meta['Gender'] = meta['Gender'].map({'M': 0, 'F': 1})\n",
        "meta['GaitSpeed(m/s)'] = pd.to_numeric(meta['GaitSpeed(m/s)'], errors='coerce')\n",
        "\n",
        "# Store the metadata with unique subjects and with gait speed filled\n",
        "#umeta = meta.drop_duplicates(subset ='Subject', keep='last')\n",
        "umeta = meta.loc[meta['FileName'].str.contains('WBDS[0-9][0-9]walkT01.c3d')]\n",
        "\n",
        "print(umeta.groupby(['AgeGroup', 'Gender']).count()['Subject'])\n",
        "print(umeta.columns)"
      ],
      "execution_count": 0,
      "outputs": [
        {
          "output_type": "stream",
          "text": [
            "AgeGroup  Gender\n",
            "Older     0         10\n",
            "          1          8\n",
            "Young     0         14\n",
            "          1         10\n",
            "Name: Subject, dtype: int64\n",
            "Index(['Subject', 'FileName', 'AgeGroup', 'Age', 'Height', 'Mass', 'Gender',\n",
            "       'Dominance', 'LegLength', 'Static1', 'Static2', 'GaitSpeed(m/s)',\n",
            "       'TreadHands', 'FP_RightFoot', 'FP_LeftFoot', 'Notes', 'BorgScale',\n",
            "       'Unnamed: 17', 'GenderOriginal', 'GaitSpeed(m/s)Original'],\n",
            "      dtype='object')\n"
          ],
          "name": "stdout"
        }
      ]
    },
    {
      "cell_type": "code",
      "metadata": {
        "id": "3TFp-NadbBTw",
        "colab_type": "code",
        "outputId": "253899e7-86fa-48f7-a72e-f2bfbe4ecb6b",
        "colab": {
          "base_uri": "https://localhost:8080/",
          "height": 301
        }
      },
      "source": [
        "# Visualize metadata\n",
        "plt.figure()\n",
        "umeta.plot.scatter(x='Mass', y='Height')\n",
        "plt.show()"
      ],
      "execution_count": 0,
      "outputs": [
        {
          "output_type": "display_data",
          "data": {
            "text/plain": [
              "<Figure size 432x288 with 0 Axes>"
            ]
          },
          "metadata": {
            "tags": []
          }
        },
        {
          "output_type": "display_data",
          "data": {
            "image/png": "[encoded data removed]",
            "text/plain": [
              "<Figure size 432x288 with 1 Axes>"
            ]
          },
          "metadata": {
            "tags": []
          }
        }
      ]
    },
    {
      "cell_type": "code",
      "metadata": {
        "id": "PoXpOPnQbXRI",
        "colab_type": "code",
        "outputId": "550eab30-239d-47d7-efbb-0c4efe960a38",
        "colab": {
          "base_uri": "https://localhost:8080/",
          "height": 319
        }
      },
      "source": [
        "fig = plt.figure()\n",
        "ax = Axes3D(fig)\n",
        "ax.scatter(umeta['Age'], umeta['Mass'], umeta['Height'], color='darkblue')\n",
        "ax.set_xlabel('Age')\n",
        "ax.set_ylabel('Mass')\n",
        "ax.set_zlabel('Height')\n",
        "plt.show()"
      ],
      "execution_count": 0,
      "outputs": [
        {
          "output_type": "display_data",
          "data": {
            "image/png": "[encoded data removed]",
            "text/plain": [
              "<Figure size 432x288 with 1 Axes>"
            ]
          },
          "metadata": {
            "tags": []
          }
        }
      ]
    },
    {
      "cell_type": "code",
      "metadata": {
        "id": "R5UepuxHJ6DP",
        "colab_type": "code",
        "colab": {}
      },
      "source": [
        "# Separate text files were generated for the markers and force signals, as the sample frequencies of the kinematics and kinetics data differed.\n",
        "# Furthermore, the text files also contain the time-normalized ensemble average of the kinematics and kinetics curves for each participant at \n",
        "# each gait speed and for each environment condition (overground and treadmill). \n",
        "# The total number of gait trials is not the same across participants because it reflects the variation in the number of valid trials per participant.\n",
        "filename = wget.download(url=WBDSascii, out='WBDSascii')\n",
        "zf = ZipFile(filename)\n",
        "os.remove(filename)"
      ],
      "execution_count": 0,
      "outputs": []
    },
    {
      "cell_type": "code",
      "metadata": {
        "id": "tWwAQivdA5kJ",
        "colab_type": "code",
        "outputId": "80d363c6-0fc7-42e8-d63d-abe1ff08ba0e",
        "colab": {
          "base_uri": "https://localhost:8080/",
          "height": 146
        }
      },
      "source": [
        "# Load pandas data frames\n",
        "\n",
        "# There are 42 subjects\n",
        "subjects = range(1, 43)\n",
        "\n",
        "# This function returns the names of a subject's files \n",
        "# that contains processed kinematics, kinetic or raw data\n",
        "# mode = 1 for kinematics during treadmill walking\n",
        "# mode = 2 for kinetics during treadmill walking\n",
        "# mode = 3 for raw data\n",
        "# mode = 2 for kinetics during overground walking\n",
        "def subject_files(sbj, mode=1):  \n",
        "  if mode==1:\n",
        "    # Angular ascii trheadmill file names\n",
        "    # Processed files of kinematics\n",
        "    pattern = 'WBDS[0-9][0-9]walkT[0-1][0-9]ang.txt'\n",
        "  elif mode==2:\n",
        "    # Processed files of kinetic data: joint moments during treadmill walking\n",
        "    pattern = 'WBDS[0-9][0-9]walkT[0-1][0-9]knt.txt'\n",
        "  elif mode==3:\n",
        "    # Raw files\n",
        "    pattern = 'WBDS[0-9][0-9]walk[T][0-1][0-9].c3d'\n",
        "  elif mode==4:\n",
        "    # Joint moments during overground walking\n",
        "    pattern = 'WBDS[0-9][0-9]walk[O][0-1][0-9].c3d'\n",
        "  files = meta[meta['FileName'].str.match(pattern)]\n",
        "  return files.query('Subject=={0}'.format(sbj))['FileName'].values\n",
        "\n",
        "def subject_features(subject_or_filename, features=['Gender', 'Age', 'Mass', 'Height']):\n",
        "  #if 'GaitSpeed(m/s)' in features:\n",
        "  if any('GaitSpeed(m/s)' in i for i in features):\n",
        "    # Gait speed refers to a file\n",
        "    return meta[meta['FileName']==subject_or_filename][features].values[0]\n",
        "  # Returns features of a given subject\n",
        "  return umeta[umeta['Subject']==subject_or_filename][features].values[0]\n",
        "  \n",
        "# Loads all files into one dataframe indexed by subject and filename\n",
        "dataset = []\n",
        "for s in subjects:\n",
        "  dss = pd.concat([pd.read_csv(zf.open(f), sep='\\t') for f in subject_files(s, mode=2)], keys = subject_files(s))\n",
        "  dataset.append(dss)\n",
        "dataset = pd.concat(dataset, keys = subjects)\n",
        "\n",
        "#youngs = 24; \n",
        "#olders = 18;\n",
        "# walking speeds classes: ('S','C','F')\n",
        "# lower extremity joints/segments: ('Pelvis','Hip','Knee','Ankle','Foot')\n",
        "\n",
        "# print the available columns, each column is a time series variable\n",
        "print(dataset.columns)"
      ],
      "execution_count": 0,
      "outputs": [
        {
          "output_type": "stream",
          "text": [
            "Index(['Time', 'RHipMomentX', 'RHipMomentY', 'RHipMomentZ', 'LHipMomentX',\n",
            "       'LHipMomentY', 'LHipMomentZ', 'RKneeMomentX', 'RKneeMomentY',\n",
            "       'RKneeMomentZ', 'LKneeMomentX', 'LKneeMomentY', 'LKneeMomentZ',\n",
            "       'RAnkleMomentX', 'RAnkleMomentY', 'RAnkleMomentZ', 'LAnkleMomentX',\n",
            "       'LAnkleMomentY', 'LAnkleMomentZ', 'RGRFX', 'RGRFY', 'RGRFZ', 'LGRFX',\n",
            "       'LGRFY', 'LGRFZ'],\n",
            "      dtype='object')\n"
          ],
          "name": "stdout"
        }
      ]
    },
    {
      "cell_type": "code",
      "metadata": {
        "id": "FsifYdqzzTYB",
        "colab_type": "code",
        "colab": {}
      },
      "source": [
        "# Alias for kinetic columns\n",
        "column_alias_dictionary = {'RHipMomentX' : 'Hip Abd/Adduction', 'RHipMomentY' : 'Hip Ext/Internal Rotation', 'RHipMomentZ' : 'Hip Flexion/Extension', \n",
        "                           'LHipMomentX' : 'Hip Abd/Adduction', 'LHipMomentY' : 'Hip Ext/Internal Rotation', 'LHipMomentZ' : 'Hip Flexion/Extension', \n",
        "                           'RKneeMomentX': 'Knee Abd/Adduction', 'RKneeMomentY' : 'Knee Ext/Internal Rotation', 'RKneeMomentZ' : 'Knee Ext/Flexion', \n",
        "                           'LKneeMomentX': 'Knee Abd/Adduction', 'LKneeMomentY' : 'Knee Ext/Internal Rotation', 'LKneeMomentZ' : 'Knee Ext/Flexion', \n",
        "                           'RAnkleMomentX' : 'Ankle Ev/Inversion', 'RAnkleMomentY' : 'Ankle Abd/Adduction', 'RAnkleMomentZ' : 'Ankle PF/Dorsiflexion', \n",
        "                           'LAnkleMomentX' : 'Ankle Ev/Inversion', 'LAnkleMomentY' : 'Ankle Abd/Adduction', 'LAnkleMomentZ' : 'Ankle PF/Dorsiflexion'}\n",
        "#dirM = {'Hip Abd/Adduction','Hip Ext/Internal Rotation','Hip Flexion/Extension', 'Knee Abd/Adduction','Knee Ext/Internal Rotation','Knee Ext/Flexion', 'Ankle Ev/Inversion','Ankle Abd/Adduction','Ankle PF/Dorsiflexion'}\n",
        "\n",
        "#yaxisLim = [-1.5 1 -.5 1.5 -.4 .5 -1 1.5 -.5 1 -.2 .5 -.5 2 -.2 .4 -.2 1];\n"
      ],
      "execution_count": 0,
      "outputs": []
    },
    {
      "cell_type": "code",
      "metadata": {
        "id": "hn6msopoNLgC",
        "colab_type": "code",
        "outputId": "4abfdda4-6c61-49d0-cc47-91b178debeac",
        "colab": {
          "base_uri": "https://localhost:8080/",
          "height": 310
        }
      },
      "source": [
        "# Visualization of some variables\n",
        "# https://pandas.pydata.org/pandas-docs/stable/user_guide/visualization.html\n",
        "\n",
        "# Pick an arbitrary subject and show some of it´s features\n",
        "subject = 12\n",
        "fts = ['GenderOriginal', 'Gender', 'Age', 'Mass', 'Height']\n",
        "[print(x) for x in zip(fts, subject_features(subject, fts))]\n",
        "\n",
        "\n",
        "# Each column is a variable to plot\n",
        "#cols = [i for i in dataset.columns if i.startswith('LGRF')]\n",
        "cols = [i for i in dataset.columns if i.startswith('RAnkle')]\n",
        "#cols = dataset.columns[1:]\n",
        "\n",
        "plt.clf()\n",
        "fig = plt.figure(figsize=(20,2.5))\n",
        "fig.subplots_adjust(hspace=.5, wspace=0.5)\n",
        "for i, c in enumerate(cols):\n",
        "  plt.subplot(len(cols)/3, 3, i+1, title='{0}: /{1}'.format(c, column_alias_dictionary.get(c)))\n",
        "  #plt.plot(dataset.loc[subject]['Time'], dataset.loc[subject][c]) # sould replace the loop below\n",
        "  for j, f in enumerate(subject_files(subject)): \n",
        "    plt.plot(dataset.loc[subject, f]['Time'], dataset.loc[subject, f][c], label='T0{0}'.format(j+1))\n",
        "  plt.grid(False)\n",
        "#plt.tight_layout()\n",
        "plt.show()\n",
        "\n",
        "# TODO: for paper plots check http://www.spm1d.org/"
      ],
      "execution_count": 0,
      "outputs": [
        {
          "output_type": "stream",
          "text": [
            "('GenderOriginal', 'F')\n",
            "('Gender', 1)\n",
            "('Age', 24)\n",
            "('Mass', 48.8)\n",
            "('Height', 158.0)\n"
          ],
          "name": "stdout"
        },
        {
          "output_type": "display_data",
          "data": {
            "text/plain": [
              "<Figure size 432x288 with 0 Axes>"
            ]
          },
          "metadata": {
            "tags": []
          }
        },
        {
          "output_type": "display_data",
          "data": {
            "image/png": "[encoded data removed]",
            "text/plain": [
              "<Figure size 1440x180 with 3 Axes>"
            ]
          },
          "metadata": {
            "tags": []
          }
        }
      ]
    },
    {
      "cell_type": "code",
      "metadata": {
        "id": "en0vtzy6YXBm",
        "colab_type": "code",
        "outputId": "e6272548-2c85-4099-aef3-868ba7f28fa0",
        "colab": {
          "base_uri": "https://localhost:8080/",
          "height": 336
        }
      },
      "source": [
        "# This function plot each trial values of one variable\n",
        "def plot_col(col):\n",
        "  plt.figure(figsize=(14,5))\n",
        "  for i, f in enumerate(subject_files(subject)): \n",
        "    ds = dataset.loc[subject, f]\n",
        "    plt.plot(ds['Time'], ds[col], label='T0{0}'.format(i+1))\n",
        "  # Plot the mean\n",
        "  plt.plot(dataset.loc[subject, f]['Time'], dataset.loc[subject].groupby('Time')[col].mean(), label='Mean', linewidth=5)\n",
        "  plt.legend(loc=\"right\", frameon=False, bbox_to_anchor= (1.2, .5))\n",
        "  plt.title('{0}: /{1}'.format(col, column_alias_dictionary.get(col)))\n",
        "  plt.show()\n",
        "  \n",
        "# plot a variable among trails\n",
        "plot_col('RAnkleMomentZ')\n",
        "\n",
        "# Works too:\n",
        "#dataset.loc[subject].plot(x='Time', y=col)\n",
        "#dataset.loc[subject].groupby('Time')[col].mean().plot(x='Time', y=col, label='Mean', linewidth=5)"
      ],
      "execution_count": 0,
      "outputs": [
        {
          "output_type": "display_data",
          "data": {
            "image/png": "[encoded data removed]",
            "text/plain": [
              "<Figure size 1008x360 with 1 Axes>"
            ]
          },
          "metadata": {
            "tags": []
          }
        }
      ]
    },
    {
      "cell_type": "markdown",
      "metadata": {
        "id": "4Wdf9-8VQr89",
        "colab_type": "text"
      },
      "source": [
        "# 2. Train-test split by subject\n",
        "\n",
        "---\n",
        "\n",
        "\n",
        "Split data by subject generating train and test sets. Must split by subject since by file may let the model learn about tests subjects."
      ]
    },
    {
      "cell_type": "code",
      "metadata": {
        "id": "TVw7yGMR1Oqh",
        "colab_type": "code",
        "outputId": "af126a00-5a19-4711-e96f-3b50099af94c",
        "colab": {
          "base_uri": "https://localhost:8080/"
        }
      },
      "source": [
        "# Train and test sets preparation\n",
        "#class_labels = ['Gender']\n",
        "# TODO: Encode class labels and add a new column label that is the combination of them\n",
        "#print(umeta[class_labels].head())\n",
        "#le = preprocessing.LabelEncoder()\n",
        "#meta_encoded = umeta[class_labels].apply(le.fit_transform, axis=0)\n",
        "\n",
        "# Split the data by subject\n",
        "train_subjects = set(random.sample(subjects, len(subjects)*2//3))\n",
        "test_subjects = set(subjects) - train_subjects\n",
        "print('train_subjects:', train_subjects)\n",
        "print('test_subjects: ', test_subjects)\n",
        "\n",
        "# Split the data by filename\n",
        "# Generate X Y of all subjects\n",
        "#X, Y = prepare_xy(subjects, cols)\n",
        "# Split the data using sklearn, will result in data mixed among subjects\n",
        "#x_train, x_test, y_train, y_test = train_test_split(X, Y, test_size=0.7, random_state=25)"
      ],
      "execution_count": 0,
      "outputs": [
        {
          "output_type": "stream",
          "text": [
            "train_subjects: {1, 2, 3, 4, 5, 9, 11, 13, 14, 15, 17, 18, 19, 20, 21, 23, 24, 25, 26, 28, 30, 32, 34, 37, 38, 39, 41, 42}\n",
            "test_subjects:  {33, 35, 36, 6, 7, 8, 40, 10, 12, 16, 22, 27, 29, 31}\n"
          ],
          "name": "stdout"
        }
      ]
    },
    {
      "cell_type": "code",
      "metadata": {
        "id": "oCQHsd6sRG9d",
        "colab_type": "code",
        "colab": {}
      },
      "source": [
        "# Generating normalized versions of the columns\n",
        "# https://scikit-learn.org/stable/auto_examples/preprocessing/plot_all_scaling.html#sphx-glr-auto-examples-preprocessing-plot-all-scaling-py\n",
        "\n",
        "\n",
        "from sklearn.preprocessing import MinMaxScaler\n",
        "from sklearn.preprocessing import minmax_scale\n",
        "from sklearn.preprocessing import MaxAbsScaler\n",
        "from sklearn.preprocessing import StandardScaler\n",
        "from sklearn.preprocessing import RobustScaler\n",
        "from sklearn.preprocessing import Normalizer\n",
        "from sklearn.preprocessing import QuantileTransformer\n",
        "\n",
        "def apply_normalizer(normalizer, column, ds = dataset):\n",
        "  return normalizer.fit_transform(ds[[column]])\n",
        "\n",
        "def normalize_data():\n",
        "  # Generate normalized columns\n",
        "  for c in dataset.columns[1:]:\n",
        "    #dataset[c+'StandardScaler'] = apply_normalizer(StandardScaler(), c)\n",
        "    dataset[c+'MinMaxScaler'] = apply_normalizer(MinMaxScaler(), c)\n",
        "    #dataset[c+'MaxAbsScaler'] = apply_normalizer(MaxAbsScaler(), c)\n",
        "    #dataset[c+'RobustScaler'] = apply_normalizer(RobustScaler(), c)\n",
        "    #dataset[c+'QuantileTransformer_gaussian'] = apply_normalizer(QuantileTransformer(output_distribution='normal'), c)\n",
        "    #dataset[c+'QuantileTransformer_uniform'] = apply_normalizer(QuantileTransformer(output_distribution='uniform'), c)\n",
        "    ##dataset[c+'Normalizer'] = apply_normalizer(Normalizer(), c)\n",
        "\n",
        "\n",
        "  # TODO: convert   GaitSpeed string to float before********************************************************************************************************\n",
        "  #TODO: normalize Age, Mass, Height and GaitSpeed columns  \n",
        "  for c in ['Age', 'Mass', 'Height', 'GaitSpeed(m/s)']:  \n",
        "    #meta[c+'StandardScaler'] = apply_normalizer(StandardScaler(), c, meta)\n",
        "    meta[c+'MinMaxScaler'] = apply_normalizer(MinMaxScaler(), c, meta)\n",
        "    #meta[c+'MaxAbsScaler'] = apply_normalizer(MaxAbsScaler(), c, meta)\n",
        "    #meta[c+'RobustScaler'] = apply_normalizer(RobustScaler(), c, meta)\n",
        "    #meta[c+'QuantileTransformer_gaussian'] = apply_normalizer(QuantileTransformer(output_distribution='normal'), c, meta)\n",
        "    #meta[c+'QuantileTransformer_uniform'] = apply_normalizer(QuantileTransformer(output_distribution='uniform'), c, meta)\n",
        "    ##meta[c+'Normalizer'] = apply_normalizer(Normalizer(), c, meta)"
      ],
      "execution_count": 0,
      "outputs": []
    },
    {
      "cell_type": "markdown",
      "metadata": {
        "id": "_0pB8MlYUmo8",
        "colab_type": "text"
      },
      "source": [
        "# 3. Time Series Generation\n",
        "\n",
        "---\n",
        "\n",
        "\n",
        "Aka.: Multi-step time series forecasting\n",
        "\n",
        "See: [Lower limb sagittal gait kinematics can be predicted based on walking speed, gender, age and BMI](https://www.ncbi.nlm.nih.gov/pmc/articles/PMC6606631/) or read at [Nature](https://www.nature.com/articles/s41598-019-45397-4)\n",
        "\n",
        "See also: https://www.sciencedirect.com/science/article/pii/S0957417413009032\n",
        "\n",
        "f(x) = y where: x = (Gender, Age, Mass, Height, Speed), y = uni/milti Time Series"
      ]
    },
    {
      "cell_type": "code",
      "metadata": {
        "id": "qCuYezDUM4H9",
        "colab_type": "code",
        "colab": {}
      },
      "source": [
        "# Evaluation metrics between two 2D arrays\n",
        "def metrics(golden, guess):\n",
        "  #from tslearn import metrics\n",
        "  #dtw = metrics.dtw(golden, guess)\n",
        "  mse = mean_squared_error(golden, guess)\n",
        "  rmse = np.sqrt(mse)\n",
        "  nrmse = rmse / np.mean(golden)\n",
        "  pearson_coef, _ = stats.pearsonr(golden.reshape(-1), guess.reshape(-1))  \n",
        "  return mse, rmse, nrmse, pearson_coef \n",
        "  #Surrogate Time Series using Fourier Transform\n",
        "  #https://stats.stackexchange.com/questions/204032/surrogate-time-series-using-fourier-transform\n",
        "  \n",
        "# Visual comparation of golden average with correspondent average predicted by the model\n",
        "def compare(golden, guess, col_name=None, Save=False):\n",
        "  plt.figure(figsize=(12,5))\n",
        "  plt.plot(range(0,101), guess.mean(axis=0), label='predicted')\n",
        "  plt.plot(range(0,101), golden.mean(axis=0), label='golden')\n",
        "  plt.legend()\n",
        "  if col_name is not None:\n",
        "    plt.title('{0}: /{1}'.format(col_name, column_alias_dictionary.get(col_name)))\n",
        "  if Save:\n",
        "    plt.savefig(col_name, format='png', bbox_inches='tight')\n",
        "    # TODO: \n",
        "    #from google.colab import files\n",
        "    #files.download(col_name) \n",
        "  else:\n",
        "    plt.show()  "
      ],
      "execution_count": 0,
      "outputs": []
    },
    {
      "cell_type": "code",
      "metadata": {
        "id": "soHBAfuSzw16",
        "colab_type": "code",
        "colab": {}
      },
      "source": [
        "# Build, train and test a FFNN model to predict one curve a once\n",
        "\n",
        "# Use norm_col = 'MinMaxScaler' for normalized values\n",
        "def prepare_yx(sbjs, y_col, norm_col=''):\n",
        "  # The x of an example will be Gender, Age, Mass, Height and Gait speed\n",
        "  # The y of an example will be a multivariate time series\n",
        "  X, Y = [], []\n",
        "  for s in sbjs:\n",
        "      for f, f_c3d in zip(subject_files(s), subject_files(s, mode=3)):\n",
        "        Y.append(np.array(dataset.loc[s, f][y_col+norm_col]))\n",
        "        X.append(subject_features(f_c3d, ['Gender', 'Age'+norm_col, 'Mass'+norm_col, 'Height'+norm_col, 'GaitSpeed(m/s)'+norm_col]))\n",
        "  return np.array(X), np.array(Y)\n",
        "\n",
        "# FFNN baseline\n",
        "# https://keras.io/getting-started/sequential-model-guide/\n",
        "def tsg_ffnn(epcs, y_col):\n",
        "  model = keras.models.Sequential()\n",
        "  model.add(keras.layers.Dense(5, activation='sigmoid', input_dim=5))\n",
        "  model.add(keras.layers.Dense(50, activation='sigmoid'))\n",
        "  model.add(keras.layers.Dense(101, activation='elu'))\n",
        "  # For a mean squared error regression problem\n",
        "  model.compile(optimizer='sgd', loss='mse')\n",
        "\n",
        "  x_train, y_train = prepare_yx(train_subjects, y_col)\n",
        "  x_test, y_test = prepare_yx(test_subjects, y_col)\n",
        "\n",
        "  #model.fit(x_train, y_train, epochs=epcs, validation_data=(x_test, y_test), verbose=False)\n",
        "  model.fit(x_train, y_train, epochs=epcs, validation_split=0.2, verbose=False)\n",
        "\n",
        "  #print(model.evaluate(x_test, y_test))\n",
        "\n",
        "  # Test\n",
        "  y_pred = model.predict(x_test)\n",
        "  mse, rmse, nrmse, p = metrics(y_test, y_pred)\n",
        "  \n",
        "  keras.backend.clear_session()\n",
        "  del model\n",
        "  \n",
        "  return y_test, y_pred, mse, rmse, nrmse, p\n",
        "  # For state-of-the-art neural network architectures for TSG refer to\n",
        "  # \"Quick and Easy Time Series Generation with Established Image-based GANs\"\n",
        "  # https://www.groundai.com/project/quick-and-easy-time-series-generation-with-established-image-based-gans/\n",
        "  \n",
        "# Train and test only one curve\n",
        "ggolden, gguess, mse, rmse, nrmse, p = tsg_ffnn(150, 'RHipMomentZ')\n",
        "print(mse, rmse, nrmse, p)\n",
        "\n",
        "# Verify consistency within numpy implementations of metrics\n",
        "# Cross-correlation\n",
        "#print(np.correlate(ggolden.reshape(-1), gguess.reshape(-1)))\n",
        "# Pearson product-moment correlation coefficients\n",
        "#print(np.corrcoef(ggolden.reshape(-1), gguess.reshape(-1)))\n",
        "  \n",
        "print(metrics(ggolden.mean(axis=0), gguess.mean(axis=0)))\n",
        "compare(ggolden, gguess)\n",
        "\n",
        "# Plot side by side\n",
        "#fig, (ax1, ax2) = plt.subplots(1, 2, sharey=True, figsize=(12,4))\n",
        "#fig.suptitle('Golden x Predicted')\n",
        "#ax1.plot(x, y_test[1])\n",
        "#ax1.plot(x, y_pred[1])\n",
        "#ax2.plot(x, y_pred[1])"
      ],
      "execution_count": 0,
      "outputs": []
    },
    {
      "cell_type": "code",
      "metadata": {
        "id": "TlVYbbIttTzH",
        "colab_type": "code",
        "colab": {}
      },
      "source": [
        "# Build, train and test one model for each series\n",
        "avg_mse = 0\n",
        "avg_rmse = 0\n",
        "avg_nrmse = 0\n",
        "avg_p = 0\n",
        "count = 1\n",
        "# Train and test a model for each time serie variable and print the test scores\n",
        "epcs = 500\n",
        "print ('Training epochs: ', epcs)\n",
        "#cols = [i for i in dataset.columns if (i.startswith('RHip') or i.startswith('RKnee') or i.startswith('RAnkle'))]\n",
        "cols = dataset.columns[1:-6]\n",
        "for y_col in cols:\n",
        "  y_golden, y_guess, mse, rmse, nrmse, p = tsg_ffnn(epcs, y_col)\n",
        "  avg_mse += mse\n",
        "  avg_rmse += rmse\n",
        "  avg_nrmse += nrmse\n",
        "  avg_p += p\n",
        "  count += 1\n",
        "  \n",
        "  #plt.figure(figsize=(9,3))\n",
        "  #for row in y_guess: \n",
        "  #  plt.plot(range(0,101), row, label='T0{0}'.format(i))\n",
        "  #plt.legend(loc=\"right\", frameon=False, bbox_to_anchor= (1.2, .5))\n",
        "  #plt.title(y_col)\n",
        "  #plt.show()\n",
        "  \n",
        "  print('Test scores for ', y_col, \n",
        "        ': MSE = {0:4.2f}, RMSE = {1:4.2f}, NRMSE = {2:4.2f}, p = {3:4.2f}'\n",
        "        .format(mse, rmse, nrmse, p))  \n",
        "\n",
        "print('Average scores: MSE = {0:4.2f}, RMSE = {1:4.2f}, NRMSE = {2:4.2f}, p = {3:4.2f}'\n",
        "      .format(avg_mse/count, avg_rmse/count, avg_nrmse/count, avg_p/count))"
      ],
      "execution_count": 0,
      "outputs": []
    },
    {
      "cell_type": "code",
      "metadata": {
        "id": "_fUzuh4bVy-0",
        "colab_type": "code",
        "outputId": "500e6d2d-fdd0-461e-a05a-d075eeecad20",
        "colab": {
          "base_uri": "https://localhost:8080/",
          "height": 35
        }
      },
      "source": [
        "# Define, train and test a model to predict all the series at once\n",
        "\n",
        "# Preparation of the inputs\n",
        "# y_cols = list with the names of columns with curves data\n",
        "def prepare_yxs(sbjs, y_cols):\n",
        "  # The x of an example will be Gender, Age, Mass, Height and Gait speed\n",
        "  # The X stores all the x's\n",
        "  X = []\n",
        "  # The y of an example will be several multivariate time series\n",
        "  # The Y stores all the y's\n",
        "  # Create a list of y_cols empty lists\n",
        "  Y = [[] for i in range(len(y_cols))]\n",
        "  y0, y1, y2 = [], [], []\n",
        "  for s in sbjs:\n",
        "      for f, f_c3d in zip(subject_files(s), subject_files(s, mode=3)):\n",
        "        X.append(subject_features(f_c3d, ['Gender', 'Age', 'Mass', 'Height', 'GaitSpeed(m/s)']))\n",
        "        for i, y_col in enumerate(y_cols):\n",
        "          Y[i].append(np.array([dataset.loc[s, f][y_col]]).reshape(-1))\n",
        "  return np.array(X), Y\n",
        "\n",
        "# Define FFNN model to predict all the curves at once\n",
        "def prepare_tsg_ffnn_model(sbjs, y_cols):\n",
        "  # A tensor for the input features: gender, age, mass, height and gait speed\n",
        "  inputs = keras.layers.Input(shape=(5,))\n",
        "\n",
        "  # Hidden layers\n",
        "  x = keras.layers.Dense(50, activation='sigmoid')(inputs)\n",
        "  #x = keras.layers.Dense(64, activation='sigmoid')(x)\n",
        "\n",
        "  # Output layer with the predictions for each curve\n",
        "  output_layer = [keras.layers.Dense(101, activation='linear')(x) for y_col in y_cols]\n",
        "\n",
        "  # This creates a model that includes the define layers\n",
        "  model = keras.models.Model(inputs=inputs, outputs=output_layer)\n",
        "  model.compile(optimizer='sgd', loss='mse')\n",
        "  return model\n",
        "\n",
        "# Select the columns to be learned\n",
        "y_cols = [i for i in dataset.columns if (i.startswith('RHip') or i.startswith('RKnee') or i.startswith('RAnkle'))]\n",
        "\n",
        "# Prepare train and test sets\n",
        "x_train, y_train = prepare_yxs(train_subjects, y_cols)\n",
        "x_test, y_test = prepare_yxs(test_subjects, y_cols)\n",
        "\n",
        "# Build the model\n",
        "model = prepare_tsg_ffnn_model(train_subjects, y_cols)\n",
        "\n",
        "# Train the model\n",
        "epcs = 500\n",
        "print('Training {1} epochs: {0}'.format(y_cols, epcs))\n",
        "model.fit(x_train, y_train, epochs=epcs, validation_split=0.2, verbose=False)\n",
        "\n",
        "# Test the model\n",
        "y_pred = np.array(model.predict(x_test))\n",
        "\n",
        "# Finish\n",
        "keras.backend.clear_session()"
      ],
      "execution_count": 0,
      "outputs": [
        {
          "output_type": "stream",
          "text": [
            "Training 500 epochs: ['RHipMomentX', 'RHipMomentY', 'RHipMomentZ', 'RKneeMomentX', 'RKneeMomentY', 'RKneeMomentZ', 'RAnkleMomentX', 'RAnkleMomentY', 'RAnkleMomentZ']\n"
          ],
          "name": "stdout"
        }
      ]
    },
    {
      "cell_type": "code",
      "metadata": {
        "id": "8bN79CgtPzE_",
        "colab_type": "code",
        "outputId": "7e9c90f9-b0c6-42cc-fdbd-88053bdc3489",
        "colab": {
          "base_uri": "https://localhost:8080/",
          "height": 201
        }
      },
      "source": [
        "# Print evaluation metrics\n",
        "avg_mse = 0\n",
        "avg_rmse = 0\n",
        "avg_nrmse = 0\n",
        "avg_p = 0\n",
        "count = 1\n",
        "\n",
        "for i, y_col in enumerate(y_cols):\n",
        "  mse, rmse, nrmse, p = metrics(np.array(y_test[i]), y_pred[i])\n",
        "  avg_mse += mse\n",
        "  avg_rmse += rmse\n",
        "  avg_nrmse += nrmse\n",
        "  avg_p += p\n",
        "  count += 1  \n",
        "  print('Test scores for ', y_col, \n",
        "        ': MSE = {0:4.2f}, RMSE = {1:4.2f}, NRMSE = {2:4.2f}, p = {3:4.2f}'\n",
        "        .format(mse, rmse, nrmse, p))  \n",
        "\n",
        "print('Average scores: MSE = {0:4.2f}, RMSE = {1:4.2f}, NRMSE = {2:4.2f}, p = {3:4.2f}'\n",
        "      .format(avg_mse/count, avg_rmse/count, avg_nrmse/count, avg_p/count))"
      ],
      "execution_count": 0,
      "outputs": [
        {
          "output_type": "stream",
          "text": [
            "Test scores for  RHipMomentX : MSE = 0.02, RMSE = 0.12, NRMSE = 0.44, p = 0.93\n",
            "Test scores for  RHipMomentY : MSE = 0.00, RMSE = 0.04, NRMSE = 0.85, p = 0.86\n",
            "Test scores for  RHipMomentZ : MSE = 0.05, RMSE = 0.22, NRMSE = -1.42, p = 0.84\n",
            "Test scores for  RKneeMomentX : MSE = 0.01, RMSE = 0.10, NRMSE = 0.69, p = 0.85\n",
            "Test scores for  RKneeMomentY : MSE = 0.00, RMSE = 0.04, NRMSE = 0.47, p = 0.91\n",
            "Test scores for  RKneeMomentZ : MSE = 0.03, RMSE = 0.18, NRMSE = -1.66, p = 0.72\n",
            "Test scores for  RAnkleMomentX : MSE = 0.00, RMSE = 0.07, NRMSE = 3.19, p = 0.56\n",
            "Test scores for  RAnkleMomentY : MSE = 0.01, RMSE = 0.08, NRMSE = 0.43, p = 0.94\n",
            "Test scores for  RAnkleMomentZ : MSE = 0.03, RMSE = 0.18, NRMSE = 0.43, p = 0.94\n",
            "Average scores: MSE = 0.02, RMSE = 0.10, NRMSE = 0.34, p = 0.76\n"
          ],
          "name": "stdout"
        }
      ]
    },
    {
      "cell_type": "code",
      "metadata": {
        "id": "uvKYX5qPliqD",
        "colab_type": "code",
        "outputId": "69913f5e-4862-4279-a307-e2af6875e99a",
        "colab": {
          "base_uri": "https://localhost:8080/",
          "height": 90
        }
      },
      "source": [
        "axs[0]"
      ],
      "execution_count": 0,
      "outputs": [
        {
          "output_type": "execute_result",
          "data": {
            "text/plain": [
              "array([<matplotlib.axes._subplots.AxesSubplot object at 0x7f16b7cba4a8>,\n",
              "       <matplotlib.axes._subplots.AxesSubplot object at 0x7f16b7cb9860>,\n",
              "       <matplotlib.axes._subplots.AxesSubplot object at 0x7f16b59b4c88>],\n",
              "      dtype=object)"
            ]
          },
          "metadata": {
            "tags": []
          },
          "execution_count": 206
        }
      ]
    },
    {
      "cell_type": "code",
      "metadata": {
        "id": "lko-QTKyk1hj",
        "colab_type": "code",
        "colab": {}
      },
      "source": [
        "# Alternative implementation\n",
        "fig, axs = plt.subplots(3, 3, sharex=True, figsize=(20,10))\n",
        "fig.suptitle('Golden x Predicted')\n",
        "for i, ax in enumerate(axs):\n",
        "  ax.plot(range(0, 101), y_pred[i].mean(axis=0), label='predicted')\n",
        "  ax.plot(range(0, 101), np.array(y_test[i]).mean(axis=0), label='golden')"
      ],
      "execution_count": 0,
      "outputs": []
    },
    {
      "cell_type": "code",
      "metadata": {
        "id": "rnaaoYBLPWPG",
        "colab_type": "code",
        "colab": {}
      },
      "source": [
        "# Visualize the average golden x generated of each time series \n",
        "plt.clf()\n",
        "with plt.style.context(['grayscale', 'seaborn-paper']): #seaborn-white\n",
        "  fig = plt.figure(figsize=(20,10))\n",
        "  fig.subplots_adjust(hspace=.5, wspace=0.5)\n",
        "\n",
        "  for i, y_col in enumerate(y_cols):\n",
        "    plt.subplot(len(y_cols)/3, 3, i+1)\n",
        "    plt.title('{0}: /{1}'.format(y_col, column_alias_dictionary.get(y_col), fontsize='x-large',fontweight='bold'))\n",
        "    \n",
        "    plt.plot(range(0,101), np.array(y_test[i]).mean(axis=0), label='golden', linewidth=3) #, color='gold'       \n",
        "    plt.plot(range(0,101), y_pred[i].mean(axis=0), label='predicted', linewidth=3) #, color='silver'\n",
        "    \n",
        "    plt.grid(False)    \n",
        "    plt.xlabel('Gait cycle(%)', fontsize='x-large')\n",
        "    plt.ylabel('Nm/Kg', fontsize='x-large')\n",
        "\n",
        "  plt.legend(loc='best', fontsize='xx-large')\n",
        "  #leg = plt.legend(loc='best', ncol=2, mode=\"expand\", shadow=True, fancybox=True)\n",
        "  #leg.get_frame().set_alpha(0.5)\n",
        "  plt.tight_layout()\n",
        "  plt.show()"
      ],
      "execution_count": 0,
      "outputs": []
    },
    {
      "cell_type": "markdown",
      "metadata": {
        "id": "zLHXq2eHJrmh",
        "colab_type": "text"
      },
      "source": [
        "# 4. Time Series Classification\n",
        "\n",
        "---\n",
        "\n",
        "\n",
        "\n",
        "* learn to classify between Male and Female gait (this notebook)\n",
        "* learn to classify between Elderly and Young gait\n",
        "* learn to classify between Overground and Treadmill gait, in case of Overground, learn to classify among Slow, Confortable and Fast gait\n",
        "* regression tasks, e.g., learn to predict gait speed (m/s), learn to predict subject age"
      ]
    },
    {
      "cell_type": "code",
      "metadata": {
        "id": "v7pNQ4fIu_aM",
        "colab_type": "code",
        "outputId": "a0dcdb24-7ec0-4942-fa98-146ef96a061d",
        "colab": {
          "base_uri": "https://localhost:8080/",
          "height": 54
        }
      },
      "source": [
        "# Data preparation\n",
        "\n",
        "def prepare_xy(sbjs, time_series_cols, class_label='Gender'):  \n",
        "  # This function returns machine learning examples for a list of subjects\n",
        "  # Each subject has several multivariate time series\n",
        "  # Each example is a pair (x, y) \n",
        "  # Capital X will store the x's and Y will store the y's\n",
        "  X, Y = [], []\n",
        "  # The x of an example will be all the multivariate time series of a subject\n",
        "  for s in sbjs:\n",
        "      for f in subject_files(s):\n",
        "        X.append(np.array(dataset.loc[s, f][time_series_cols.values]))\n",
        "        Y.append(subject_features(s, class_label))\n",
        "  return np.array(X), np.array(Y)\n",
        "\n",
        "cols = dataset.columns\n",
        "# Omit the time column since the data is uniform over time and there is no missing values\n",
        "# cols = dataset.columns[1:]\n",
        "\n",
        "x_train, y_train = prepare_xy(train_subjects, cols)\n",
        "x_test, y_test = prepare_xy(test_subjects, cols)\n",
        "\n",
        "# The number of classes\n",
        "#nb_classes = len(np.unique(np.concatenate((y_train,y_test),axis =0)))\n",
        "# Encode labels\n",
        "#y_train_encoded, y_test_encoded = prepare_labels(y_train, y_test)  \n",
        "\n",
        "print(train_subjects, x_train.shape, y_train.shape)\n",
        "print(test_subjects, x_test.shape, y_test.shape)"
      ],
      "execution_count": 0,
      "outputs": [
        {
          "output_type": "stream",
          "text": [
            "{2, 4, 8, 9, 11, 12, 13, 15, 16, 17, 18, 20, 21, 23, 25, 26, 27, 28, 29, 30, 33, 34, 35, 36, 37, 39, 40, 41} (218, 101, 49) (218,)\n",
            "{32, 1, 3, 5, 6, 7, 38, 10, 42, 14, 19, 22, 24, 31} (110, 101, 49) (110,)\n"
          ],
          "name": "stdout"
        }
      ]
    },
    {
      "cell_type": "code",
      "metadata": {
        "id": "RKNyLXqQ27nO",
        "colab_type": "code",
        "outputId": "9192cd52-31f9-41eb-9413-6d826963a5d3",
        "colab": {
          "base_uri": "https://localhost:8080/",
          "height": 717
        }
      },
      "source": [
        "# LSTM baseline \n",
        "\n",
        "# Keras LSTM expected input shape is of the format [#timesteps, #features]\n",
        "in_shape = x_train.shape[1:]\n",
        "output_dim = 1\n",
        "\n",
        "# https://www.analyticsvidhya.com/blog/2019/01/introduction-time-series-classification/\n",
        "model = keras.models.Sequential()\n",
        "model.add(keras.layers.LSTM(64, input_shape=in_shape))\n",
        "#model.add(keras.layers.Dense(32, activation='sigmoid'))\n",
        "#model.add(keras.layers.Dropout(0.25))\n",
        "model.add(keras.layers.Dense(output_dim, activation='softmax'))\n",
        "#model.summary()\n",
        "# Train\n",
        "chk = keras.callbacks.ModelCheckpoint('best_model.pkl', monitor='val_acc', save_best_only=True, mode='max', verbose=0)\n",
        "model.compile(loss='binary_crossentropy', optimizer='adam', metrics=['accuracy'])\n",
        "model.fit(x_train, y_train, validation_split=0.12, epochs=10, batch_size=128, callbacks=[chk])\n",
        "\n",
        "del model\n",
        "del chk"
      ],
      "execution_count": 0,
      "outputs": [
        {
          "output_type": "stream",
          "text": [
            "WARNING: Logging before flag parsing goes to stderr.\n",
            "W0903 11:18:09.335210 139745402177408 deprecation_wrapper.py:119] From /usr/local/lib/python3.6/dist-packages/keras/backend/tensorflow_backend.py:66: The name tf.get_default_graph is deprecated. Please use tf.compat.v1.get_default_graph instead.\n",
            "\n",
            "W0903 11:18:09.378536 139745402177408 deprecation_wrapper.py:119] From /usr/local/lib/python3.6/dist-packages/keras/backend/tensorflow_backend.py:541: The name tf.placeholder is deprecated. Please use tf.compat.v1.placeholder instead.\n",
            "\n",
            "W0903 11:18:09.386713 139745402177408 deprecation_wrapper.py:119] From /usr/local/lib/python3.6/dist-packages/keras/backend/tensorflow_backend.py:4432: The name tf.random_uniform is deprecated. Please use tf.random.uniform instead.\n",
            "\n",
            "W0903 11:18:09.679944 139745402177408 deprecation_wrapper.py:119] From /usr/local/lib/python3.6/dist-packages/keras/optimizers.py:793: The name tf.train.Optimizer is deprecated. Please use tf.compat.v1.train.Optimizer instead.\n",
            "\n",
            "W0903 11:18:09.702010 139745402177408 deprecation_wrapper.py:119] From /usr/local/lib/python3.6/dist-packages/keras/backend/tensorflow_backend.py:3657: The name tf.log is deprecated. Please use tf.math.log instead.\n",
            "\n",
            "W0903 11:18:09.708957 139745402177408 deprecation.py:323] From /usr/local/lib/python3.6/dist-packages/tensorflow/python/ops/nn_impl.py:180: add_dispatch_support.<locals>.wrapper (from tensorflow.python.ops.array_ops) is deprecated and will be removed in a future version.\n",
            "Instructions for updating:\n",
            "Use tf.where in 2.0, which has the same broadcast rule as np.where\n",
            "W0903 11:18:10.570259 139745402177408 deprecation_wrapper.py:119] From /usr/local/lib/python3.6/dist-packages/keras/backend/tensorflow_backend.py:1033: The name tf.assign_add is deprecated. Please use tf.compat.v1.assign_add instead.\n",
            "\n"
          ],
          "name": "stderr"
        },
        {
          "output_type": "stream",
          "text": [
            "Train on 191 samples, validate on 27 samples\n",
            "Epoch 1/10\n",
            "191/191 [==============================] - 2s 8ms/step - loss: nan - acc: 0.1414 - val_loss: nan - val_acc: 0.0000e+00\n",
            "Epoch 2/10\n",
            "191/191 [==============================] - 0s 1ms/step - loss: nan - acc: 0.0000e+00 - val_loss: nan - val_acc: 0.0000e+00\n",
            "Epoch 3/10\n",
            "191/191 [==============================] - 0s 1ms/step - loss: nan - acc: 0.0000e+00 - val_loss: nan - val_acc: 0.0000e+00\n",
            "Epoch 4/10\n",
            "191/191 [==============================] - 0s 1ms/step - loss: nan - acc: 0.0000e+00 - val_loss: nan - val_acc: 0.0000e+00\n",
            "Epoch 5/10\n",
            "191/191 [==============================] - 0s 1ms/step - loss: nan - acc: 0.0000e+00 - val_loss: nan - val_acc: 0.0000e+00\n",
            "Epoch 6/10\n",
            "191/191 [==============================] - 0s 1ms/step - loss: nan - acc: 0.0000e+00 - val_loss: nan - val_acc: 0.0000e+00\n",
            "Epoch 7/10\n",
            "191/191 [==============================] - 0s 1ms/step - loss: nan - acc: 0.0000e+00 - val_loss: nan - val_acc: 0.0000e+00\n",
            "Epoch 8/10\n",
            "191/191 [==============================] - 0s 1ms/step - loss: nan - acc: 0.0000e+00 - val_loss: nan - val_acc: 0.0000e+00\n",
            "Epoch 9/10\n",
            "191/191 [==============================] - 0s 1ms/step - loss: nan - acc: 0.0000e+00 - val_loss: nan - val_acc: 0.0000e+00\n",
            "Epoch 10/10\n",
            "191/191 [==============================] - 0s 1ms/step - loss: nan - acc: 0.0000e+00 - val_loss: nan - val_acc: 0.0000e+00\n"
          ],
          "name": "stdout"
        }
      ]
    },
    {
      "cell_type": "code",
      "metadata": {
        "id": "3w7NoHmJBB6T",
        "colab_type": "code",
        "outputId": "89906c9b-5fac-4af8-ef8a-a3c82ad778fd",
        "colab": {
          "base_uri": "https://localhost:8080/",
          "height": 72
        }
      },
      "source": [
        "# Test\n",
        "model = keras.models.load_model('best_model.pkl')\n",
        "y_pred = model.predict_classes(x_test)\n",
        "print('Test score: {0}'.format(accuracy_score(y_test.reshape(-1,), y_pred))) # Test score: 0.57\n",
        "keras.backend.clear_session()"
      ],
      "execution_count": 0,
      "outputs": [
        {
          "output_type": "stream",
          "text": [
            "Test score: 0.43636363636363634\n"
          ],
          "name": "stdout"
        },
        {
          "output_type": "stream",
          "text": [
            "/usr/local/lib/python3.6/dist-packages/keras/engine/sequential.py:272: RuntimeWarning: invalid value encountered in greater\n",
            "  return (proba > 0.5).astype('int32')\n"
          ],
          "name": "stderr"
        }
      ]
    },
    {
      "cell_type": "code",
      "metadata": {
        "id": "3NaFD4M-Jrwo",
        "colab_type": "code",
        "outputId": "93349053-8e86-4827-81ec-e0b350dc1168",
        "colab": {
          "base_uri": "https://localhost:8080/",
          "height": 54
        }
      },
      "source": [
        "from sklearn.metrics import confusion_matrix\n",
        "print(confusion_matrix(y_test, y_pred.reshape(-1)))"
      ],
      "execution_count": 0,
      "outputs": [
        {
          "output_type": "stream",
          "text": [
            "[[48  0]\n",
            " [62  0]]\n"
          ],
          "name": "stdout"
        }
      ]
    },
    {
      "cell_type": "code",
      "metadata": {
        "id": "r2KDvJqlKlgn",
        "colab_type": "code",
        "outputId": "784a249a-cd05-4e56-fafb-869d68f85ae0",
        "colab": {
          "base_uri": "https://localhost:8080/",
          "height": 35
        }
      },
      "source": [
        "y_test.shape"
      ],
      "execution_count": 0,
      "outputs": [
        {
          "output_type": "execute_result",
          "data": {
            "text/plain": [
              "(110,)"
            ]
          },
          "metadata": {
            "tags": []
          },
          "execution_count": 25
        }
      ]
    },
    {
      "cell_type": "code",
      "metadata": {
        "id": "jWcKLwUTL3Hm",
        "colab_type": "code",
        "outputId": "221ceb0a-03e1-4dd8-ed57-4357b44bded3",
        "colab": {
          "base_uri": "https://localhost:8080/",
          "height": 109
        }
      },
      "source": [
        "y_test.reshape(-1)"
      ],
      "execution_count": 0,
      "outputs": [
        {
          "output_type": "execute_result",
          "data": {
            "text/plain": [
              "array([1, 1, 1, 1, 1, 1, 0, 0, 0, 0, 0, 0, 0, 0, 0, 0, 0, 0, 0, 0, 0, 0,\n",
              "       0, 0, 0, 0, 0, 0, 0, 0, 0, 0, 0, 0, 0, 0, 0, 0, 1, 1, 1, 1, 1, 1,\n",
              "       1, 1, 1, 1, 1, 1, 1, 1, 1, 1, 1, 1, 1, 1, 1, 1, 1, 1, 1, 1, 1, 1,\n",
              "       1, 1, 1, 1, 1, 1, 1, 1, 1, 1, 1, 1, 0, 0, 0, 0, 0, 0, 0, 0, 1, 1,\n",
              "       1, 1, 1, 1, 1, 1, 0, 0, 0, 0, 0, 0, 0, 0, 1, 1, 1, 1, 1, 1, 1, 1])"
            ]
          },
          "metadata": {
            "tags": []
          },
          "execution_count": 26
        }
      ]
    },
    {
      "cell_type": "code",
      "metadata": {
        "id": "yF89U7vnP2h5",
        "colab_type": "code",
        "outputId": "bc37fef1-2c5c-4df3-c84d-5ca53019c1fe",
        "colab": {
          "base_uri": "https://localhost:8080/",
          "height": 1000
        }
      },
      "source": [
        "# State-of-the-art\n",
        "\n",
        "# Clone the repo \"Deep Learning for Time Series Classification\"\n",
        "# https://github.com/hfawaz/dl-4-tsc\n",
        "!git clone -l -s https://github.com/hfawaz/dl-4-tsc.git cloned-repo\n",
        "%cd cloned-repo\n",
        "#!ls\n",
        "\n",
        "import utils.utils\n",
        "import classifiers\n",
        "\n",
        "!mkdir experiments\n",
        "\n",
        "input_shape = x_train.shape[1:]\n",
        "output_directory = 'experiments'\n",
        "#classifier = create_classifier(classifier_name,input_shape, nb_classes, output_directory)\n",
        "nb_classes = len(np.unique(np.concatenate((y_train,y_test),axis =0)))\n",
        "from classifiers import fcn\n",
        "classifier = fcn.Classifier_FCN(output_directory,input_shape, nb_classes, verbose=True)\n",
        "\n",
        "# make the min to zero of labels\n",
        "from utils.utils import transform_labels\n",
        "y_train,y_test = transform_labels(y_train,y_test)\n",
        "\n",
        "# save orignal y because later we will use binary\n",
        "y_true = y_test.astype(np.int64) \n",
        "# transform the labels from integers to one hot vectors\n",
        "enc = preprocessing.OneHotEncoder()\n",
        "enc.fit(np.concatenate((y_train,y_test),axis =0).reshape(-1,1))\n",
        "y_train = enc.transform(y_train.reshape(-1,1)).toarray()\n",
        "y_test = enc.transform(y_test.reshape(-1,1)).toarray()\n",
        "\n",
        "if len(x_train.shape) == 2: # if univariate \n",
        "    # add a dimension to make it multivariate with one dimension \n",
        "    x_train = x_train.reshape((x_train.shape[0],x_train.shape[1],1))\n",
        "    x_test = x_test.reshape((x_test.shape[0],x_test.shape[1],1))\n",
        "\n",
        "input_shape = x_train.shape[1:]\n",
        "\n",
        "# y_true = y_test TODO: pass correct y_true\n",
        "classifier.fit(x_train,y_train,x_test,y_test, y_test) # TODO: see test score"
      ],
      "execution_count": 0,
      "outputs": [
        {
          "output_type": "stream",
          "text": [
            "Cloning into 'cloned-repo'...\n",
            "warning: --local is ignored\n",
            "remote: Enumerating objects: 24, done.\u001b[K\n",
            "remote: Counting objects: 100% (24/24), done.\u001b[K\n",
            "remote: Compressing objects: 100% (14/14), done.\u001b[K\n",
            "remote: Total 134 (delta 12), reused 19 (delta 10), pack-reused 110\u001b[K\n",
            "Receiving objects: 100% (134/134), 560.51 KiB | 2.04 MiB/s, done.\n",
            "Resolving deltas: 100% (51/51), done.\n",
            "/content/cloned-repo\n",
            "Model: \"model_1\"\n",
            "_________________________________________________________________\n",
            "Layer (type)                 Output Shape              Param #   \n",
            "=================================================================\n",
            "input_1 (InputLayer)         (None, 101, 49)           0         \n",
            "_________________________________________________________________\n",
            "conv1d_1 (Conv1D)            (None, 101, 128)          50304     \n",
            "_________________________________________________________________\n",
            "batch_normalization_1 (Batch (None, 101, 128)          512       \n",
            "_________________________________________________________________\n",
            "activation_1 (Activation)    (None, 101, 128)          0         \n",
            "_________________________________________________________________\n",
            "conv1d_2 (Conv1D)            (None, 101, 256)          164096    \n",
            "_________________________________________________________________\n",
            "batch_normalization_2 (Batch (None, 101, 256)          1024      \n",
            "_________________________________________________________________\n",
            "activation_2 (Activation)    (None, 101, 256)          0         \n",
            "_________________________________________________________________\n",
            "conv1d_3 (Conv1D)            (None, 101, 128)          98432     \n",
            "_________________________________________________________________\n",
            "batch_normalization_3 (Batch (None, 101, 128)          512       \n",
            "_________________________________________________________________\n",
            "activation_3 (Activation)    (None, 101, 128)          0         \n",
            "_________________________________________________________________\n",
            "global_average_pooling1d_1 ( (None, 128)               0         \n",
            "_________________________________________________________________\n",
            "dense_1 (Dense)              (None, 2)                 258       \n",
            "=================================================================\n",
            "Total params: 315,138\n",
            "Trainable params: 314,114\n",
            "Non-trainable params: 1,024\n",
            "_________________________________________________________________\n"
          ],
          "name": "stdout"
        },
        {
          "output_type": "stream",
          "text": [
            "/usr/local/lib/python3.6/dist-packages/sklearn/preprocessing/_encoders.py:415: FutureWarning: The handling of integer data will change in version 0.22. Currently, the categories are determined based on the range [0, max(values)], while in the future they will be determined based on the unique values.\n",
            "If you want the future behaviour and silence this warning, you can specify \"categories='auto'\".\n",
            "In case you used a LabelEncoder before this OneHotEncoder to convert the categories to integers, then you can now use the OneHotEncoder directly.\n",
            "  warnings.warn(msg, FutureWarning)\n"
          ],
          "name": "stderr"
        },
        {
          "output_type": "stream",
          "text": [
            "Train on 218 samples, validate on 110 samples\n",
            "Epoch 1/2000\n",
            "218/218 [==============================] - 2s 11ms/step - loss: nan - acc: 0.6330 - val_loss: nan - val_acc: 0.4364\n",
            "Epoch 2/2000\n",
            "218/218 [==============================] - 1s 6ms/step - loss: nan - acc: 0.6330 - val_loss: nan - val_acc: 0.4364\n",
            "Epoch 3/2000\n",
            "218/218 [==============================] - 1s 7ms/step - loss: nan - acc: 0.6330 - val_loss: nan - val_acc: 0.4364\n",
            "Epoch 4/2000\n",
            "218/218 [==============================] - 1s 7ms/step - loss: nan - acc: 0.6330 - val_loss: nan - val_acc: 0.4364\n",
            "Epoch 5/2000\n",
            "218/218 [==============================] - 1s 7ms/step - loss: nan - acc: 0.6330 - val_loss: nan - val_acc: 0.4364\n",
            "Epoch 6/2000\n",
            "218/218 [==============================] - 1s 7ms/step - loss: nan - acc: 0.6330 - val_loss: nan - val_acc: 0.4364\n",
            "Epoch 7/2000\n",
            "218/218 [==============================] - 1s 7ms/step - loss: nan - acc: 0.6330 - val_loss: nan - val_acc: 0.4364\n",
            "Epoch 8/2000\n",
            "218/218 [==============================] - 1s 7ms/step - loss: nan - acc: 0.6330 - val_loss: nan - val_acc: 0.4364\n",
            "Epoch 9/2000\n",
            "218/218 [==============================] - 1s 7ms/step - loss: nan - acc: 0.6330 - val_loss: nan - val_acc: 0.4364\n",
            "Epoch 10/2000\n",
            "218/218 [==============================] - 1s 6ms/step - loss: nan - acc: 0.6330 - val_loss: nan - val_acc: 0.4364\n",
            "Epoch 11/2000\n",
            "218/218 [==============================] - 1s 6ms/step - loss: nan - acc: 0.6330 - val_loss: nan - val_acc: 0.4364\n",
            "Epoch 12/2000\n",
            "218/218 [==============================] - 1s 7ms/step - loss: nan - acc: 0.6330 - val_loss: nan - val_acc: 0.4364\n",
            "Epoch 13/2000\n",
            "218/218 [==============================] - 1s 6ms/step - loss: nan - acc: 0.6330 - val_loss: nan - val_acc: 0.4364\n",
            "Epoch 14/2000\n",
            "218/218 [==============================] - 1s 7ms/step - loss: nan - acc: 0.6330 - val_loss: nan - val_acc: 0.4364\n",
            "Epoch 15/2000\n",
            "218/218 [==============================] - 1s 7ms/step - loss: nan - acc: 0.6330 - val_loss: nan - val_acc: 0.4364\n",
            "Epoch 16/2000\n",
            "218/218 [==============================] - 1s 6ms/step - loss: nan - acc: 0.6330 - val_loss: nan - val_acc: 0.4364\n",
            "Epoch 17/2000\n",
            "218/218 [==============================] - 1s 7ms/step - loss: nan - acc: 0.6330 - val_loss: nan - val_acc: 0.4364\n",
            "Epoch 18/2000\n",
            "218/218 [==============================] - 1s 6ms/step - loss: nan - acc: 0.6330 - val_loss: nan - val_acc: 0.4364\n",
            "Epoch 19/2000\n",
            "218/218 [==============================] - 1s 6ms/step - loss: nan - acc: 0.6330 - val_loss: nan - val_acc: 0.4364\n",
            "Epoch 20/2000\n",
            "218/218 [==============================] - 1s 7ms/step - loss: nan - acc: 0.6330 - val_loss: nan - val_acc: 0.4364\n",
            "Epoch 21/2000\n",
            "218/218 [==============================] - 1s 6ms/step - loss: nan - acc: 0.6330 - val_loss: nan - val_acc: 0.4364\n",
            "Epoch 22/2000\n",
            "218/218 [==============================] - 1s 6ms/step - loss: nan - acc: 0.6330 - val_loss: nan - val_acc: 0.4364\n",
            "Epoch 23/2000\n",
            "218/218 [==============================] - 1s 6ms/step - loss: nan - acc: 0.6330 - val_loss: nan - val_acc: 0.4364\n",
            "Epoch 24/2000\n",
            "218/218 [==============================] - 1s 7ms/step - loss: nan - acc: 0.6330 - val_loss: nan - val_acc: 0.4364\n",
            "Epoch 25/2000\n",
            "218/218 [==============================] - 1s 7ms/step - loss: nan - acc: 0.6330 - val_loss: nan - val_acc: 0.4364\n",
            "Epoch 26/2000\n",
            "218/218 [==============================] - 1s 7ms/step - loss: nan - acc: 0.6330 - val_loss: nan - val_acc: 0.4364\n",
            "Epoch 27/2000\n",
            "218/218 [==============================] - 1s 7ms/step - loss: nan - acc: 0.6330 - val_loss: nan - val_acc: 0.4364\n",
            "Epoch 28/2000\n",
            "218/218 [==============================] - 1s 6ms/step - loss: nan - acc: 0.6330 - val_loss: nan - val_acc: 0.4364\n",
            "Epoch 29/2000\n",
            "218/218 [==============================] - 1s 7ms/step - loss: nan - acc: 0.6330 - val_loss: nan - val_acc: 0.4364\n",
            "Epoch 30/2000\n",
            "218/218 [==============================] - 1s 7ms/step - loss: nan - acc: 0.6330 - val_loss: nan - val_acc: 0.4364\n",
            "Epoch 31/2000\n",
            "218/218 [==============================] - 1s 7ms/step - loss: nan - acc: 0.6330 - val_loss: nan - val_acc: 0.4364\n",
            "Epoch 32/2000\n",
            "218/218 [==============================] - 1s 6ms/step - loss: nan - acc: 0.6330 - val_loss: nan - val_acc: 0.4364\n",
            "Epoch 33/2000\n",
            "218/218 [==============================] - 1s 6ms/step - loss: nan - acc: 0.6330 - val_loss: nan - val_acc: 0.4364\n",
            "Epoch 34/2000\n",
            "218/218 [==============================] - 1s 7ms/step - loss: nan - acc: 0.6330 - val_loss: nan - val_acc: 0.4364\n",
            "Epoch 35/2000\n",
            "218/218 [==============================] - 1s 6ms/step - loss: nan - acc: 0.6330 - val_loss: nan - val_acc: 0.4364\n",
            "Epoch 36/2000\n",
            "218/218 [==============================] - 1s 7ms/step - loss: nan - acc: 0.6330 - val_loss: nan - val_acc: 0.4364\n",
            "Epoch 37/2000\n",
            "218/218 [==============================] - 1s 6ms/step - loss: nan - acc: 0.6330 - val_loss: nan - val_acc: 0.4364\n",
            "Epoch 38/2000\n",
            "218/218 [==============================] - 1s 7ms/step - loss: nan - acc: 0.6330 - val_loss: nan - val_acc: 0.4364\n",
            "Epoch 39/2000\n",
            "218/218 [==============================] - 1s 6ms/step - loss: nan - acc: 0.6330 - val_loss: nan - val_acc: 0.4364\n",
            "Epoch 40/2000\n",
            "218/218 [==============================] - 1s 7ms/step - loss: nan - acc: 0.6330 - val_loss: nan - val_acc: 0.4364\n",
            "Epoch 41/2000\n",
            "218/218 [==============================] - 1s 7ms/step - loss: nan - acc: 0.6330 - val_loss: nan - val_acc: 0.4364\n",
            "Epoch 42/2000\n",
            "218/218 [==============================] - 1s 7ms/step - loss: nan - acc: 0.6330 - val_loss: nan - val_acc: 0.4364\n",
            "Epoch 43/2000\n",
            "218/218 [==============================] - 1s 6ms/step - loss: nan - acc: 0.6330 - val_loss: nan - val_acc: 0.4364\n",
            "Epoch 44/2000\n",
            "218/218 [==============================] - 1s 6ms/step - loss: nan - acc: 0.6330 - val_loss: nan - val_acc: 0.4364\n",
            "Epoch 45/2000\n",
            "218/218 [==============================] - 1s 6ms/step - loss: nan - acc: 0.6330 - val_loss: nan - val_acc: 0.4364\n",
            "Epoch 46/2000\n",
            "218/218 [==============================] - 1s 7ms/step - loss: nan - acc: 0.6330 - val_loss: nan - val_acc: 0.4364\n",
            "Epoch 47/2000\n",
            "218/218 [==============================] - 1s 6ms/step - loss: nan - acc: 0.6330 - val_loss: nan - val_acc: 0.4364\n",
            "Epoch 48/2000\n",
            "218/218 [==============================] - 1s 7ms/step - loss: nan - acc: 0.6330 - val_loss: nan - val_acc: 0.4364\n",
            "Epoch 49/2000\n",
            "218/218 [==============================] - 1s 7ms/step - loss: nan - acc: 0.6330 - val_loss: nan - val_acc: 0.4364\n",
            "Epoch 50/2000\n",
            "218/218 [==============================] - 1s 7ms/step - loss: nan - acc: 0.6330 - val_loss: nan - val_acc: 0.4364\n",
            "Epoch 51/2000\n",
            "218/218 [==============================] - 1s 7ms/step - loss: nan - acc: 0.6330 - val_loss: nan - val_acc: 0.4364\n",
            "Epoch 52/2000\n",
            "218/218 [==============================] - 1s 6ms/step - loss: nan - acc: 0.6330 - val_loss: nan - val_acc: 0.4364\n",
            "Epoch 53/2000\n",
            "218/218 [==============================] - 1s 6ms/step - loss: nan - acc: 0.6330 - val_loss: nan - val_acc: 0.4364\n",
            "Epoch 54/2000\n",
            "218/218 [==============================] - 1s 7ms/step - loss: nan - acc: 0.6330 - val_loss: nan - val_acc: 0.4364\n",
            "Epoch 55/2000\n",
            "218/218 [==============================] - 1s 6ms/step - loss: nan - acc: 0.6330 - val_loss: nan - val_acc: 0.4364\n",
            "Epoch 56/2000\n",
            "218/218 [==============================] - 1s 7ms/step - loss: nan - acc: 0.6330 - val_loss: nan - val_acc: 0.4364\n",
            "Epoch 57/2000\n",
            "218/218 [==============================] - 1s 7ms/step - loss: nan - acc: 0.6330 - val_loss: nan - val_acc: 0.4364\n",
            "Epoch 58/2000\n",
            "218/218 [==============================] - 1s 7ms/step - loss: nan - acc: 0.6330 - val_loss: nan - val_acc: 0.4364\n",
            "Epoch 59/2000\n",
            "218/218 [==============================] - 1s 7ms/step - loss: nan - acc: 0.6330 - val_loss: nan - val_acc: 0.4364\n",
            "Epoch 60/2000\n",
            "218/218 [==============================] - 1s 7ms/step - loss: nan - acc: 0.6330 - val_loss: nan - val_acc: 0.4364\n",
            "Epoch 61/2000\n",
            "218/218 [==============================] - 1s 7ms/step - loss: nan - acc: 0.6330 - val_loss: nan - val_acc: 0.4364\n",
            "Epoch 62/2000\n",
            "218/218 [==============================] - 1s 7ms/step - loss: nan - acc: 0.6330 - val_loss: nan - val_acc: 0.4364\n",
            "Epoch 63/2000\n",
            "218/218 [==============================] - 1s 7ms/step - loss: nan - acc: 0.6330 - val_loss: nan - val_acc: 0.4364\n",
            "Epoch 64/2000\n",
            "218/218 [==============================] - 1s 7ms/step - loss: nan - acc: 0.6330 - val_loss: nan - val_acc: 0.4364\n",
            "Epoch 65/2000\n",
            "218/218 [==============================] - 1s 6ms/step - loss: nan - acc: 0.6330 - val_loss: nan - val_acc: 0.4364\n",
            "Epoch 66/2000\n",
            "218/218 [==============================] - 1s 6ms/step - loss: nan - acc: 0.6330 - val_loss: nan - val_acc: 0.4364\n",
            "Epoch 67/2000\n",
            "218/218 [==============================] - 1s 6ms/step - loss: nan - acc: 0.6330 - val_loss: nan - val_acc: 0.4364\n",
            "Epoch 68/2000\n",
            "218/218 [==============================] - 1s 7ms/step - loss: nan - acc: 0.6330 - val_loss: nan - val_acc: 0.4364\n",
            "Epoch 69/2000\n",
            "218/218 [==============================] - 1s 7ms/step - loss: nan - acc: 0.6330 - val_loss: nan - val_acc: 0.4364\n",
            "Epoch 70/2000\n",
            "218/218 [==============================] - 1s 6ms/step - loss: nan - acc: 0.6330 - val_loss: nan - val_acc: 0.4364\n",
            "Epoch 71/2000\n",
            "218/218 [==============================] - 1s 6ms/step - loss: nan - acc: 0.6330 - val_loss: nan - val_acc: 0.4364\n",
            "Epoch 72/2000\n",
            "218/218 [==============================] - 1s 7ms/step - loss: nan - acc: 0.6330 - val_loss: nan - val_acc: 0.4364\n",
            "Epoch 73/2000\n",
            "218/218 [==============================] - 1s 7ms/step - loss: nan - acc: 0.6330 - val_loss: nan - val_acc: 0.4364\n",
            "Epoch 74/2000\n",
            "218/218 [==============================] - 1s 6ms/step - loss: nan - acc: 0.6330 - val_loss: nan - val_acc: 0.4364\n",
            "Epoch 75/2000\n",
            "218/218 [==============================] - 1s 7ms/step - loss: nan - acc: 0.6330 - val_loss: nan - val_acc: 0.4364\n",
            "Epoch 76/2000\n",
            "218/218 [==============================] - 1s 7ms/step - loss: nan - acc: 0.6330 - val_loss: nan - val_acc: 0.4364\n",
            "Epoch 77/2000\n",
            "218/218 [==============================] - 1s 7ms/step - loss: nan - acc: 0.6330 - val_loss: nan - val_acc: 0.4364\n",
            "Epoch 78/2000\n",
            "218/218 [==============================] - 1s 7ms/step - loss: nan - acc: 0.6330 - val_loss: nan - val_acc: 0.4364\n",
            "Epoch 79/2000\n",
            "218/218 [==============================] - 1s 7ms/step - loss: nan - acc: 0.6330 - val_loss: nan - val_acc: 0.4364\n",
            "Epoch 80/2000\n",
            "218/218 [==============================] - 1s 7ms/step - loss: nan - acc: 0.6330 - val_loss: nan - val_acc: 0.4364\n",
            "Epoch 81/2000\n",
            "218/218 [==============================] - 1s 6ms/step - loss: nan - acc: 0.6330 - val_loss: nan - val_acc: 0.4364\n",
            "Epoch 82/2000\n",
            "218/218 [==============================] - 1s 7ms/step - loss: nan - acc: 0.6330 - val_loss: nan - val_acc: 0.4364\n",
            "Epoch 83/2000\n",
            "218/218 [==============================] - 1s 7ms/step - loss: nan - acc: 0.6330 - val_loss: nan - val_acc: 0.4364\n",
            "Epoch 84/2000\n",
            "218/218 [==============================] - 1s 7ms/step - loss: nan - acc: 0.6330 - val_loss: nan - val_acc: 0.4364\n",
            "Epoch 85/2000\n",
            "218/218 [==============================] - 1s 7ms/step - loss: nan - acc: 0.6330 - val_loss: nan - val_acc: 0.4364\n",
            "Epoch 86/2000\n",
            "218/218 [==============================] - 1s 7ms/step - loss: nan - acc: 0.6330 - val_loss: nan - val_acc: 0.4364\n",
            "Epoch 87/2000\n",
            "218/218 [==============================] - 1s 6ms/step - loss: nan - acc: 0.6330 - val_loss: nan - val_acc: 0.4364\n",
            "Epoch 88/2000\n",
            "218/218 [==============================] - 1s 7ms/step - loss: nan - acc: 0.6330 - val_loss: nan - val_acc: 0.4364\n",
            "Epoch 89/2000\n",
            "218/218 [==============================] - 1s 7ms/step - loss: nan - acc: 0.6330 - val_loss: nan - val_acc: 0.4364\n",
            "Epoch 90/2000\n",
            "218/218 [==============================] - 1s 6ms/step - loss: nan - acc: 0.6330 - val_loss: nan - val_acc: 0.4364\n",
            "Epoch 91/2000\n",
            "218/218 [==============================] - 1s 7ms/step - loss: nan - acc: 0.6330 - val_loss: nan - val_acc: 0.4364\n",
            "Epoch 92/2000\n",
            "218/218 [==============================] - 1s 6ms/step - loss: nan - acc: 0.6330 - val_loss: nan - val_acc: 0.4364\n",
            "Epoch 93/2000\n",
            "218/218 [==============================] - 1s 7ms/step - loss: nan - acc: 0.6330 - val_loss: nan - val_acc: 0.4364\n",
            "Epoch 94/2000\n",
            "218/218 [==============================] - 1s 7ms/step - loss: nan - acc: 0.6330 - val_loss: nan - val_acc: 0.4364\n",
            "Epoch 95/2000\n",
            "218/218 [==============================] - 1s 7ms/step - loss: nan - acc: 0.6330 - val_loss: nan - val_acc: 0.4364\n",
            "Epoch 96/2000\n",
            "218/218 [==============================] - 1s 7ms/step - loss: nan - acc: 0.6330 - val_loss: nan - val_acc: 0.4364\n",
            "Epoch 97/2000\n",
            "218/218 [==============================] - 1s 7ms/step - loss: nan - acc: 0.6330 - val_loss: nan - val_acc: 0.4364\n",
            "Epoch 98/2000\n",
            "218/218 [==============================] - 1s 7ms/step - loss: nan - acc: 0.6330 - val_loss: nan - val_acc: 0.4364\n",
            "Epoch 99/2000\n",
            "218/218 [==============================] - 1s 7ms/step - loss: nan - acc: 0.6330 - val_loss: nan - val_acc: 0.4364\n",
            "Epoch 100/2000\n",
            "218/218 [==============================] - 1s 7ms/step - loss: nan - acc: 0.6330 - val_loss: nan - val_acc: 0.4364\n",
            "Epoch 101/2000\n",
            "218/218 [==============================] - 1s 7ms/step - loss: nan - acc: 0.6330 - val_loss: nan - val_acc: 0.4364\n",
            "Epoch 102/2000\n",
            "218/218 [==============================] - 1s 6ms/step - loss: nan - acc: 0.6330 - val_loss: nan - val_acc: 0.4364\n",
            "Epoch 103/2000\n",
            "218/218 [==============================] - 1s 7ms/step - loss: nan - acc: 0.6330 - val_loss: nan - val_acc: 0.4364\n",
            "Epoch 104/2000\n",
            "218/218 [==============================] - 1s 7ms/step - loss: nan - acc: 0.6330 - val_loss: nan - val_acc: 0.4364\n",
            "Epoch 105/2000\n",
            "218/218 [==============================] - 1s 7ms/step - loss: nan - acc: 0.6330 - val_loss: nan - val_acc: 0.4364\n",
            "Epoch 106/2000\n",
            "218/218 [==============================] - 1s 7ms/step - loss: nan - acc: 0.6330 - val_loss: nan - val_acc: 0.4364\n",
            "Epoch 107/2000\n",
            "218/218 [==============================] - 1s 7ms/step - loss: nan - acc: 0.6330 - val_loss: nan - val_acc: 0.4364\n",
            "Epoch 108/2000\n",
            "218/218 [==============================] - 1s 7ms/step - loss: nan - acc: 0.6330 - val_loss: nan - val_acc: 0.4364\n",
            "Epoch 109/2000\n",
            "218/218 [==============================] - 1s 7ms/step - loss: nan - acc: 0.6330 - val_loss: nan - val_acc: 0.4364\n",
            "Epoch 110/2000\n",
            "218/218 [==============================] - 1s 7ms/step - loss: nan - acc: 0.6330 - val_loss: nan - val_acc: 0.4364\n",
            "Epoch 111/2000\n",
            "218/218 [==============================] - 1s 7ms/step - loss: nan - acc: 0.6330 - val_loss: nan - val_acc: 0.4364\n",
            "Epoch 112/2000\n",
            "218/218 [==============================] - 1s 7ms/step - loss: nan - acc: 0.6330 - val_loss: nan - val_acc: 0.4364\n",
            "Epoch 113/2000\n",
            "218/218 [==============================] - 1s 7ms/step - loss: nan - acc: 0.6330 - val_loss: nan - val_acc: 0.4364\n",
            "Epoch 114/2000\n",
            "218/218 [==============================] - 1s 7ms/step - loss: nan - acc: 0.6330 - val_loss: nan - val_acc: 0.4364\n",
            "Epoch 115/2000\n",
            "218/218 [==============================] - 1s 7ms/step - loss: nan - acc: 0.6330 - val_loss: nan - val_acc: 0.4364\n",
            "Epoch 116/2000\n",
            "218/218 [==============================] - 1s 6ms/step - loss: nan - acc: 0.6330 - val_loss: nan - val_acc: 0.4364\n",
            "Epoch 117/2000\n",
            "218/218 [==============================] - 1s 7ms/step - loss: nan - acc: 0.6330 - val_loss: nan - val_acc: 0.4364\n",
            "Epoch 118/2000\n",
            "218/218 [==============================] - 1s 7ms/step - loss: nan - acc: 0.6330 - val_loss: nan - val_acc: 0.4364\n",
            "Epoch 119/2000\n",
            "218/218 [==============================] - 1s 7ms/step - loss: nan - acc: 0.6330 - val_loss: nan - val_acc: 0.4364\n",
            "Epoch 120/2000\n",
            "218/218 [==============================] - 1s 7ms/step - loss: nan - acc: 0.6330 - val_loss: nan - val_acc: 0.4364\n",
            "Epoch 121/2000\n",
            "218/218 [==============================] - 1s 7ms/step - loss: nan - acc: 0.6330 - val_loss: nan - val_acc: 0.4364\n",
            "Epoch 122/2000\n",
            "218/218 [==============================] - 1s 7ms/step - loss: nan - acc: 0.6330 - val_loss: nan - val_acc: 0.4364\n",
            "Epoch 123/2000\n",
            "218/218 [==============================] - 1s 7ms/step - loss: nan - acc: 0.6330 - val_loss: nan - val_acc: 0.4364\n",
            "Epoch 124/2000\n",
            "218/218 [==============================] - 1s 7ms/step - loss: nan - acc: 0.6330 - val_loss: nan - val_acc: 0.4364\n",
            "Epoch 125/2000\n",
            "218/218 [==============================] - 1s 7ms/step - loss: nan - acc: 0.6330 - val_loss: nan - val_acc: 0.4364\n",
            "Epoch 126/2000\n",
            "218/218 [==============================] - 1s 7ms/step - loss: nan - acc: 0.6330 - val_loss: nan - val_acc: 0.4364\n",
            "Epoch 127/2000\n",
            "218/218 [==============================] - 1s 7ms/step - loss: nan - acc: 0.6330 - val_loss: nan - val_acc: 0.4364\n",
            "Epoch 128/2000\n",
            "218/218 [==============================] - 1s 7ms/step - loss: nan - acc: 0.6330 - val_loss: nan - val_acc: 0.4364\n",
            "Epoch 129/2000\n",
            "218/218 [==============================] - 1s 7ms/step - loss: nan - acc: 0.6330 - val_loss: nan - val_acc: 0.4364\n",
            "Epoch 130/2000\n",
            "218/218 [==============================] - 1s 7ms/step - loss: nan - acc: 0.6330 - val_loss: nan - val_acc: 0.4364\n",
            "Epoch 131/2000\n",
            "218/218 [==============================] - 1s 7ms/step - loss: nan - acc: 0.6330 - val_loss: nan - val_acc: 0.4364\n",
            "Epoch 132/2000\n",
            "218/218 [==============================] - 1s 7ms/step - loss: nan - acc: 0.6330 - val_loss: nan - val_acc: 0.4364\n",
            "Epoch 133/2000\n",
            "218/218 [==============================] - 1s 7ms/step - loss: nan - acc: 0.6330 - val_loss: nan - val_acc: 0.4364\n",
            "Epoch 134/2000\n",
            "218/218 [==============================] - 1s 7ms/step - loss: nan - acc: 0.6330 - val_loss: nan - val_acc: 0.4364\n",
            "Epoch 135/2000\n",
            "218/218 [==============================] - 1s 7ms/step - loss: nan - acc: 0.6330 - val_loss: nan - val_acc: 0.4364\n",
            "Epoch 136/2000\n",
            "218/218 [==============================] - 1s 7ms/step - loss: nan - acc: 0.6330 - val_loss: nan - val_acc: 0.4364\n",
            "Epoch 137/2000\n",
            "218/218 [==============================] - 1s 7ms/step - loss: nan - acc: 0.6330 - val_loss: nan - val_acc: 0.4364\n",
            "Epoch 138/2000\n",
            "218/218 [==============================] - 1s 7ms/step - loss: nan - acc: 0.6330 - val_loss: nan - val_acc: 0.4364\n",
            "Epoch 139/2000\n",
            "218/218 [==============================] - 1s 7ms/step - loss: nan - acc: 0.6330 - val_loss: nan - val_acc: 0.4364\n",
            "Epoch 140/2000\n",
            "218/218 [==============================] - 1s 7ms/step - loss: nan - acc: 0.6330 - val_loss: nan - val_acc: 0.4364\n",
            "Epoch 141/2000\n",
            "218/218 [==============================] - 1s 7ms/step - loss: nan - acc: 0.6330 - val_loss: nan - val_acc: 0.4364\n",
            "Epoch 142/2000\n",
            "218/218 [==============================] - 1s 7ms/step - loss: nan - acc: 0.6330 - val_loss: nan - val_acc: 0.4364\n",
            "Epoch 143/2000\n",
            "218/218 [==============================] - 1s 7ms/step - loss: nan - acc: 0.6330 - val_loss: nan - val_acc: 0.4364\n",
            "Epoch 144/2000\n",
            "218/218 [==============================] - 1s 7ms/step - loss: nan - acc: 0.6330 - val_loss: nan - val_acc: 0.4364\n",
            "Epoch 145/2000\n",
            "218/218 [==============================] - 1s 7ms/step - loss: nan - acc: 0.6330 - val_loss: nan - val_acc: 0.4364\n",
            "Epoch 146/2000\n",
            "218/218 [==============================] - 1s 7ms/step - loss: nan - acc: 0.6330 - val_loss: nan - val_acc: 0.4364\n",
            "Epoch 147/2000\n",
            "218/218 [==============================] - 1s 7ms/step - loss: nan - acc: 0.6330 - val_loss: nan - val_acc: 0.4364\n",
            "Epoch 148/2000\n",
            "218/218 [==============================] - 1s 7ms/step - loss: nan - acc: 0.6330 - val_loss: nan - val_acc: 0.4364\n",
            "Epoch 149/2000\n",
            "218/218 [==============================] - 1s 7ms/step - loss: nan - acc: 0.6330 - val_loss: nan - val_acc: 0.4364\n",
            "Epoch 150/2000\n",
            "218/218 [==============================] - 1s 7ms/step - loss: nan - acc: 0.6330 - val_loss: nan - val_acc: 0.4364\n",
            "Epoch 151/2000\n",
            "218/218 [==============================] - 1s 7ms/step - loss: nan - acc: 0.6330 - val_loss: nan - val_acc: 0.4364\n",
            "Epoch 152/2000\n",
            "218/218 [==============================] - 1s 7ms/step - loss: nan - acc: 0.6330 - val_loss: nan - val_acc: 0.4364\n",
            "Epoch 153/2000\n",
            "218/218 [==============================] - 1s 7ms/step - loss: nan - acc: 0.6330 - val_loss: nan - val_acc: 0.4364\n",
            "Epoch 154/2000\n",
            "218/218 [==============================] - 1s 7ms/step - loss: nan - acc: 0.6330 - val_loss: nan - val_acc: 0.4364\n",
            "Epoch 155/2000\n",
            "218/218 [==============================] - 1s 7ms/step - loss: nan - acc: 0.6330 - val_loss: nan - val_acc: 0.4364\n",
            "Epoch 156/2000\n",
            "218/218 [==============================] - 1s 7ms/step - loss: nan - acc: 0.6330 - val_loss: nan - val_acc: 0.4364\n",
            "Epoch 157/2000\n",
            "218/218 [==============================] - 1s 7ms/step - loss: nan - acc: 0.6330 - val_loss: nan - val_acc: 0.4364\n",
            "Epoch 158/2000\n",
            "218/218 [==============================] - 1s 7ms/step - loss: nan - acc: 0.6330 - val_loss: nan - val_acc: 0.4364\n",
            "Epoch 159/2000\n",
            "218/218 [==============================] - 1s 6ms/step - loss: nan - acc: 0.6330 - val_loss: nan - val_acc: 0.4364\n",
            "Epoch 160/2000\n",
            "218/218 [==============================] - 1s 7ms/step - loss: nan - acc: 0.6330 - val_loss: nan - val_acc: 0.4364\n",
            "Epoch 161/2000\n",
            "218/218 [==============================] - 1s 7ms/step - loss: nan - acc: 0.6330 - val_loss: nan - val_acc: 0.4364\n",
            "Epoch 162/2000\n",
            "218/218 [==============================] - 1s 7ms/step - loss: nan - acc: 0.6330 - val_loss: nan - val_acc: 0.4364\n",
            "Epoch 163/2000\n",
            "218/218 [==============================] - 1s 7ms/step - loss: nan - acc: 0.6330 - val_loss: nan - val_acc: 0.4364\n",
            "Epoch 164/2000\n",
            "218/218 [==============================] - 1s 7ms/step - loss: nan - acc: 0.6330 - val_loss: nan - val_acc: 0.4364\n",
            "Epoch 165/2000\n",
            "218/218 [==============================] - 1s 7ms/step - loss: nan - acc: 0.6330 - val_loss: nan - val_acc: 0.4364\n",
            "Epoch 166/2000\n",
            "218/218 [==============================] - 1s 7ms/step - loss: nan - acc: 0.6330 - val_loss: nan - val_acc: 0.4364\n",
            "Epoch 167/2000\n",
            "218/218 [==============================] - 1s 7ms/step - loss: nan - acc: 0.6330 - val_loss: nan - val_acc: 0.4364\n",
            "Epoch 168/2000\n",
            "218/218 [==============================] - 1s 7ms/step - loss: nan - acc: 0.6330 - val_loss: nan - val_acc: 0.4364\n",
            "Epoch 169/2000\n",
            "218/218 [==============================] - 1s 7ms/step - loss: nan - acc: 0.6330 - val_loss: nan - val_acc: 0.4364\n",
            "Epoch 170/2000\n",
            "218/218 [==============================] - 1s 7ms/step - loss: nan - acc: 0.6330 - val_loss: nan - val_acc: 0.4364\n",
            "Epoch 171/2000\n",
            "218/218 [==============================] - 1s 7ms/step - loss: nan - acc: 0.6330 - val_loss: nan - val_acc: 0.4364\n",
            "Epoch 172/2000\n",
            "218/218 [==============================] - 1s 7ms/step - loss: nan - acc: 0.6330 - val_loss: nan - val_acc: 0.4364\n",
            "Epoch 173/2000\n",
            "218/218 [==============================] - 1s 7ms/step - loss: nan - acc: 0.6330 - val_loss: nan - val_acc: 0.4364\n",
            "Epoch 174/2000\n",
            "218/218 [==============================] - 1s 7ms/step - loss: nan - acc: 0.6330 - val_loss: nan - val_acc: 0.4364\n",
            "Epoch 175/2000\n",
            "218/218 [==============================] - 1s 7ms/step - loss: nan - acc: 0.6330 - val_loss: nan - val_acc: 0.4364\n",
            "Epoch 176/2000\n",
            "218/218 [==============================] - 1s 7ms/step - loss: nan - acc: 0.6330 - val_loss: nan - val_acc: 0.4364\n",
            "Epoch 177/2000\n",
            "218/218 [==============================] - 1s 7ms/step - loss: nan - acc: 0.6330 - val_loss: nan - val_acc: 0.4364\n",
            "Epoch 178/2000\n",
            "218/218 [==============================] - 1s 7ms/step - loss: nan - acc: 0.6330 - val_loss: nan - val_acc: 0.4364\n",
            "Epoch 179/2000\n",
            "218/218 [==============================] - 1s 7ms/step - loss: nan - acc: 0.6330 - val_loss: nan - val_acc: 0.4364\n",
            "Epoch 180/2000\n",
            "218/218 [==============================] - 1s 7ms/step - loss: nan - acc: 0.6330 - val_loss: nan - val_acc: 0.4364\n",
            "Epoch 181/2000\n",
            "218/218 [==============================] - 1s 7ms/step - loss: nan - acc: 0.6330 - val_loss: nan - val_acc: 0.4364\n",
            "Epoch 182/2000\n",
            "218/218 [==============================] - 1s 7ms/step - loss: nan - acc: 0.6330 - val_loss: nan - val_acc: 0.4364\n",
            "Epoch 183/2000\n",
            "218/218 [==============================] - 1s 7ms/step - loss: nan - acc: 0.6330 - val_loss: nan - val_acc: 0.4364\n",
            "Epoch 184/2000\n",
            "218/218 [==============================] - 1s 6ms/step - loss: nan - acc: 0.6330 - val_loss: nan - val_acc: 0.4364\n",
            "Epoch 185/2000\n",
            "218/218 [==============================] - 1s 6ms/step - loss: nan - acc: 0.6330 - val_loss: nan - val_acc: 0.4364\n",
            "Epoch 186/2000\n",
            "218/218 [==============================] - 1s 7ms/step - loss: nan - acc: 0.6330 - val_loss: nan - val_acc: 0.4364\n",
            "Epoch 187/2000\n",
            "218/218 [==============================] - 1s 7ms/step - loss: nan - acc: 0.6330 - val_loss: nan - val_acc: 0.4364\n",
            "Epoch 188/2000\n",
            "218/218 [==============================] - 1s 7ms/step - loss: nan - acc: 0.6330 - val_loss: nan - val_acc: 0.4364\n",
            "Epoch 189/2000\n",
            "218/218 [==============================] - 1s 7ms/step - loss: nan - acc: 0.6330 - val_loss: nan - val_acc: 0.4364\n",
            "Epoch 190/2000\n",
            "218/218 [==============================] - 1s 7ms/step - loss: nan - acc: 0.6330 - val_loss: nan - val_acc: 0.4364\n",
            "Epoch 191/2000\n",
            "218/218 [==============================] - 1s 7ms/step - loss: nan - acc: 0.6330 - val_loss: nan - val_acc: 0.4364\n",
            "Epoch 192/2000\n",
            "218/218 [==============================] - 1s 7ms/step - loss: nan - acc: 0.6330 - val_loss: nan - val_acc: 0.4364\n",
            "Epoch 193/2000\n",
            "218/218 [==============================] - 1s 7ms/step - loss: nan - acc: 0.6330 - val_loss: nan - val_acc: 0.4364\n",
            "Epoch 194/2000\n",
            "218/218 [==============================] - 1s 7ms/step - loss: nan - acc: 0.6330 - val_loss: nan - val_acc: 0.4364\n",
            "Epoch 195/2000\n",
            "218/218 [==============================] - 1s 7ms/step - loss: nan - acc: 0.6330 - val_loss: nan - val_acc: 0.4364\n",
            "Epoch 196/2000\n",
            "218/218 [==============================] - 1s 7ms/step - loss: nan - acc: 0.6330 - val_loss: nan - val_acc: 0.4364\n",
            "Epoch 197/2000\n",
            "218/218 [==============================] - 1s 7ms/step - loss: nan - acc: 0.6330 - val_loss: nan - val_acc: 0.4364\n",
            "Epoch 198/2000\n",
            "218/218 [==============================] - 1s 7ms/step - loss: nan - acc: 0.6330 - val_loss: nan - val_acc: 0.4364\n",
            "Epoch 199/2000\n",
            "218/218 [==============================] - 1s 7ms/step - loss: nan - acc: 0.6330 - val_loss: nan - val_acc: 0.4364\n",
            "Epoch 200/2000\n",
            "218/218 [==============================] - 1s 7ms/step - loss: nan - acc: 0.6330 - val_loss: nan - val_acc: 0.4364\n",
            "Epoch 201/2000\n",
            "218/218 [==============================] - 1s 7ms/step - loss: nan - acc: 0.6330 - val_loss: nan - val_acc: 0.4364\n",
            "Epoch 202/2000\n",
            "218/218 [==============================] - 1s 7ms/step - loss: nan - acc: 0.6330 - val_loss: nan - val_acc: 0.4364\n",
            "Epoch 203/2000\n",
            "218/218 [==============================] - 1s 7ms/step - loss: nan - acc: 0.6330 - val_loss: nan - val_acc: 0.4364\n",
            "Epoch 204/2000\n",
            "218/218 [==============================] - 1s 7ms/step - loss: nan - acc: 0.6330 - val_loss: nan - val_acc: 0.4364\n",
            "Epoch 205/2000\n",
            "218/218 [==============================] - 1s 7ms/step - loss: nan - acc: 0.6330 - val_loss: nan - val_acc: 0.4364\n",
            "Epoch 206/2000\n",
            "218/218 [==============================] - 1s 7ms/step - loss: nan - acc: 0.6330 - val_loss: nan - val_acc: 0.4364\n",
            "Epoch 207/2000\n",
            "218/218 [==============================] - 1s 6ms/step - loss: nan - acc: 0.6330 - val_loss: nan - val_acc: 0.4364\n",
            "Epoch 208/2000\n",
            "218/218 [==============================] - 1s 7ms/step - loss: nan - acc: 0.6330 - val_loss: nan - val_acc: 0.4364\n",
            "Epoch 209/2000\n",
            "218/218 [==============================] - 1s 7ms/step - loss: nan - acc: 0.6330 - val_loss: nan - val_acc: 0.4364\n",
            "Epoch 210/2000\n",
            "218/218 [==============================] - 1s 7ms/step - loss: nan - acc: 0.6330 - val_loss: nan - val_acc: 0.4364\n",
            "Epoch 211/2000\n",
            " 80/218 [==========>...................] - ETA: 0s - loss: nan - acc: 0.6625"
          ],
          "name": "stdout"
        },
        {
          "output_type": "error",
          "ename": "KeyboardInterrupt",
          "evalue": "ignored",
          "traceback": [
            "\u001b[0;31m---------------------------------------------------------------------------\u001b[0m",
            "\u001b[0;31mKeyboardInterrupt\u001b[0m                         Traceback (most recent call last)",
            "\u001b[0;32m<ipython-input-27-f835af7fd8d8>\u001b[0m in \u001b[0;36m<module>\u001b[0;34m()\u001b[0m\n\u001b[1;32m     35\u001b[0m \u001b[0;34m\u001b[0m\u001b[0m\n\u001b[1;32m     36\u001b[0m \u001b[0;31m# y_true = y_test TODO: pass correct y_true\u001b[0m\u001b[0;34m\u001b[0m\u001b[0;34m\u001b[0m\u001b[0;34m\u001b[0m\u001b[0m\n\u001b[0;32m---> 37\u001b[0;31m \u001b[0mclassifier\u001b[0m\u001b[0;34m.\u001b[0m\u001b[0mfit\u001b[0m\u001b[0;34m(\u001b[0m\u001b[0mx_train\u001b[0m\u001b[0;34m,\u001b[0m\u001b[0my_train\u001b[0m\u001b[0;34m,\u001b[0m\u001b[0mx_test\u001b[0m\u001b[0;34m,\u001b[0m\u001b[0my_test\u001b[0m\u001b[0;34m,\u001b[0m \u001b[0my_test\u001b[0m\u001b[0;34m)\u001b[0m \u001b[0;31m# TODO: see test score\u001b[0m\u001b[0;34m\u001b[0m\u001b[0;34m\u001b[0m\u001b[0m\n\u001b[0m",
            "\u001b[0;32m/content/cloned-repo/classifiers/fcn.py\u001b[0m in \u001b[0;36mfit\u001b[0;34m(self, x_train, y_train, x_val, y_val, y_true)\u001b[0m\n\u001b[1;32m     63\u001b[0m \u001b[0;34m\u001b[0m\u001b[0m\n\u001b[1;32m     64\u001b[0m \t\thist = self.model.fit(x_train, y_train, batch_size=mini_batch_size, epochs=nb_epochs,\n\u001b[0;32m---> 65\u001b[0;31m \t\t\tverbose=self.verbose, validation_data=(x_val,y_val), callbacks=self.callbacks)\n\u001b[0m\u001b[1;32m     66\u001b[0m \u001b[0;34m\u001b[0m\u001b[0m\n\u001b[1;32m     67\u001b[0m                 \u001b[0mduration\u001b[0m \u001b[0;34m=\u001b[0m \u001b[0mtime\u001b[0m\u001b[0;34m.\u001b[0m\u001b[0mtime\u001b[0m\u001b[0;34m(\u001b[0m\u001b[0;34m)\u001b[0m \u001b[0;34m-\u001b[0m \u001b[0mstart_time\u001b[0m\u001b[0;34m\u001b[0m\u001b[0;34m\u001b[0m\u001b[0m\n",
            "\u001b[0;32m/usr/local/lib/python3.6/dist-packages/keras/engine/training.py\u001b[0m in \u001b[0;36mfit\u001b[0;34m(self, x, y, batch_size, epochs, verbose, callbacks, validation_split, validation_data, shuffle, class_weight, sample_weight, initial_epoch, steps_per_epoch, validation_steps, validation_freq, max_queue_size, workers, use_multiprocessing, **kwargs)\u001b[0m\n\u001b[1;32m   1176\u001b[0m                                         \u001b[0msteps_per_epoch\u001b[0m\u001b[0;34m=\u001b[0m\u001b[0msteps_per_epoch\u001b[0m\u001b[0;34m,\u001b[0m\u001b[0;34m\u001b[0m\u001b[0;34m\u001b[0m\u001b[0m\n\u001b[1;32m   1177\u001b[0m                                         \u001b[0mvalidation_steps\u001b[0m\u001b[0;34m=\u001b[0m\u001b[0mvalidation_steps\u001b[0m\u001b[0;34m,\u001b[0m\u001b[0;34m\u001b[0m\u001b[0;34m\u001b[0m\u001b[0m\n\u001b[0;32m-> 1178\u001b[0;31m                                         validation_freq=validation_freq)\n\u001b[0m\u001b[1;32m   1179\u001b[0m \u001b[0;34m\u001b[0m\u001b[0m\n\u001b[1;32m   1180\u001b[0m     def evaluate(self,\n",
            "\u001b[0;32m/usr/local/lib/python3.6/dist-packages/keras/engine/training_arrays.py\u001b[0m in \u001b[0;36mfit_loop\u001b[0;34m(model, fit_function, fit_inputs, out_labels, batch_size, epochs, verbose, callbacks, val_function, val_inputs, shuffle, callback_metrics, initial_epoch, steps_per_epoch, validation_steps, validation_freq)\u001b[0m\n\u001b[1;32m    202\u001b[0m                     \u001b[0mins_batch\u001b[0m\u001b[0;34m[\u001b[0m\u001b[0mi\u001b[0m\u001b[0;34m]\u001b[0m \u001b[0;34m=\u001b[0m \u001b[0mins_batch\u001b[0m\u001b[0;34m[\u001b[0m\u001b[0mi\u001b[0m\u001b[0;34m]\u001b[0m\u001b[0;34m.\u001b[0m\u001b[0mtoarray\u001b[0m\u001b[0;34m(\u001b[0m\u001b[0;34m)\u001b[0m\u001b[0;34m\u001b[0m\u001b[0;34m\u001b[0m\u001b[0m\n\u001b[1;32m    203\u001b[0m \u001b[0;34m\u001b[0m\u001b[0m\n\u001b[0;32m--> 204\u001b[0;31m                 \u001b[0mouts\u001b[0m \u001b[0;34m=\u001b[0m \u001b[0mfit_function\u001b[0m\u001b[0;34m(\u001b[0m\u001b[0mins_batch\u001b[0m\u001b[0;34m)\u001b[0m\u001b[0;34m\u001b[0m\u001b[0;34m\u001b[0m\u001b[0m\n\u001b[0m\u001b[1;32m    205\u001b[0m                 \u001b[0mouts\u001b[0m \u001b[0;34m=\u001b[0m \u001b[0mto_list\u001b[0m\u001b[0;34m(\u001b[0m\u001b[0mouts\u001b[0m\u001b[0;34m)\u001b[0m\u001b[0;34m\u001b[0m\u001b[0;34m\u001b[0m\u001b[0m\n\u001b[1;32m    206\u001b[0m                 \u001b[0;32mfor\u001b[0m \u001b[0ml\u001b[0m\u001b[0;34m,\u001b[0m \u001b[0mo\u001b[0m \u001b[0;32min\u001b[0m \u001b[0mzip\u001b[0m\u001b[0;34m(\u001b[0m\u001b[0mout_labels\u001b[0m\u001b[0;34m,\u001b[0m \u001b[0mouts\u001b[0m\u001b[0;34m)\u001b[0m\u001b[0;34m:\u001b[0m\u001b[0;34m\u001b[0m\u001b[0;34m\u001b[0m\u001b[0m\n",
            "\u001b[0;32m/usr/local/lib/python3.6/dist-packages/keras/backend/tensorflow_backend.py\u001b[0m in \u001b[0;36m__call__\u001b[0;34m(self, inputs)\u001b[0m\n\u001b[1;32m   2977\u001b[0m                     \u001b[0;32mreturn\u001b[0m \u001b[0mself\u001b[0m\u001b[0;34m.\u001b[0m\u001b[0m_legacy_call\u001b[0m\u001b[0;34m(\u001b[0m\u001b[0minputs\u001b[0m\u001b[0;34m)\u001b[0m\u001b[0;34m\u001b[0m\u001b[0;34m\u001b[0m\u001b[0m\n\u001b[1;32m   2978\u001b[0m \u001b[0;34m\u001b[0m\u001b[0m\n\u001b[0;32m-> 2979\u001b[0;31m             \u001b[0;32mreturn\u001b[0m \u001b[0mself\u001b[0m\u001b[0;34m.\u001b[0m\u001b[0m_call\u001b[0m\u001b[0;34m(\u001b[0m\u001b[0minputs\u001b[0m\u001b[0;34m)\u001b[0m\u001b[0;34m\u001b[0m\u001b[0;34m\u001b[0m\u001b[0m\n\u001b[0m\u001b[1;32m   2980\u001b[0m         \u001b[0;32melse\u001b[0m\u001b[0;34m:\u001b[0m\u001b[0;34m\u001b[0m\u001b[0;34m\u001b[0m\u001b[0m\n\u001b[1;32m   2981\u001b[0m             \u001b[0;32mif\u001b[0m \u001b[0mpy_any\u001b[0m\u001b[0;34m(\u001b[0m\u001b[0mis_tensor\u001b[0m\u001b[0;34m(\u001b[0m\u001b[0mx\u001b[0m\u001b[0;34m)\u001b[0m \u001b[0;32mfor\u001b[0m \u001b[0mx\u001b[0m \u001b[0;32min\u001b[0m \u001b[0minputs\u001b[0m\u001b[0;34m)\u001b[0m\u001b[0;34m:\u001b[0m\u001b[0;34m\u001b[0m\u001b[0;34m\u001b[0m\u001b[0m\n",
            "\u001b[0;32m/usr/local/lib/python3.6/dist-packages/keras/backend/tensorflow_backend.py\u001b[0m in \u001b[0;36m_call\u001b[0;34m(self, inputs)\u001b[0m\n\u001b[1;32m   2935\u001b[0m             \u001b[0mfetched\u001b[0m \u001b[0;34m=\u001b[0m \u001b[0mself\u001b[0m\u001b[0;34m.\u001b[0m\u001b[0m_callable_fn\u001b[0m\u001b[0;34m(\u001b[0m\u001b[0;34m*\u001b[0m\u001b[0marray_vals\u001b[0m\u001b[0;34m,\u001b[0m \u001b[0mrun_metadata\u001b[0m\u001b[0;34m=\u001b[0m\u001b[0mself\u001b[0m\u001b[0;34m.\u001b[0m\u001b[0mrun_metadata\u001b[0m\u001b[0;34m)\u001b[0m\u001b[0;34m\u001b[0m\u001b[0;34m\u001b[0m\u001b[0m\n\u001b[1;32m   2936\u001b[0m         \u001b[0;32melse\u001b[0m\u001b[0;34m:\u001b[0m\u001b[0;34m\u001b[0m\u001b[0;34m\u001b[0m\u001b[0m\n\u001b[0;32m-> 2937\u001b[0;31m             \u001b[0mfetched\u001b[0m \u001b[0;34m=\u001b[0m \u001b[0mself\u001b[0m\u001b[0;34m.\u001b[0m\u001b[0m_callable_fn\u001b[0m\u001b[0;34m(\u001b[0m\u001b[0;34m*\u001b[0m\u001b[0marray_vals\u001b[0m\u001b[0;34m)\u001b[0m\u001b[0;34m\u001b[0m\u001b[0;34m\u001b[0m\u001b[0m\n\u001b[0m\u001b[1;32m   2938\u001b[0m         \u001b[0;32mreturn\u001b[0m \u001b[0mfetched\u001b[0m\u001b[0;34m[\u001b[0m\u001b[0;34m:\u001b[0m\u001b[0mlen\u001b[0m\u001b[0;34m(\u001b[0m\u001b[0mself\u001b[0m\u001b[0;34m.\u001b[0m\u001b[0moutputs\u001b[0m\u001b[0;34m)\u001b[0m\u001b[0;34m]\u001b[0m\u001b[0;34m\u001b[0m\u001b[0;34m\u001b[0m\u001b[0m\n\u001b[1;32m   2939\u001b[0m \u001b[0;34m\u001b[0m\u001b[0m\n",
            "\u001b[0;32m/usr/local/lib/python3.6/dist-packages/tensorflow/python/client/session.py\u001b[0m in \u001b[0;36m__call__\u001b[0;34m(self, *args, **kwargs)\u001b[0m\n\u001b[1;32m   1456\u001b[0m         ret = tf_session.TF_SessionRunCallable(self._session._session,\n\u001b[1;32m   1457\u001b[0m                                                \u001b[0mself\u001b[0m\u001b[0;34m.\u001b[0m\u001b[0m_handle\u001b[0m\u001b[0;34m,\u001b[0m \u001b[0margs\u001b[0m\u001b[0;34m,\u001b[0m\u001b[0;34m\u001b[0m\u001b[0;34m\u001b[0m\u001b[0m\n\u001b[0;32m-> 1458\u001b[0;31m                                                run_metadata_ptr)\n\u001b[0m\u001b[1;32m   1459\u001b[0m         \u001b[0;32mif\u001b[0m \u001b[0mrun_metadata\u001b[0m\u001b[0;34m:\u001b[0m\u001b[0;34m\u001b[0m\u001b[0;34m\u001b[0m\u001b[0m\n\u001b[1;32m   1460\u001b[0m           \u001b[0mproto_data\u001b[0m \u001b[0;34m=\u001b[0m \u001b[0mtf_session\u001b[0m\u001b[0;34m.\u001b[0m\u001b[0mTF_GetBuffer\u001b[0m\u001b[0;34m(\u001b[0m\u001b[0mrun_metadata_ptr\u001b[0m\u001b[0;34m)\u001b[0m\u001b[0;34m\u001b[0m\u001b[0;34m\u001b[0m\u001b[0m\n",
            "\u001b[0;31mKeyboardInterrupt\u001b[0m: "
          ]
        }
      ]
    },
    {
      "cell_type": "markdown",
      "metadata": {
        "id": "281xV1NKRSFU",
        "colab_type": "text"
      },
      "source": [
        "# 5. Generate synthetic time series data\n",
        "\n",
        "---\n",
        "\n",
        "\n",
        "\n",
        "And repeat step 3 but using the synthetic data to augment the train set"
      ]
    },
    {
      "cell_type": "code",
      "metadata": {
        "id": "FNAySvOtRXdl",
        "colab_type": "code",
        "colab": {}
      },
      "source": [
        ""
      ],
      "execution_count": 0,
      "outputs": []
    },
    {
      "cell_type": "markdown",
      "metadata": {
        "id": "o0VX4DtKmwF0",
        "colab_type": "text"
      },
      "source": [
        "# 6. Results\n",
        "\n",
        "---\n",
        "\n",
        "Training epochs:  500\n",
        "Test scores for  RHipMomentX : MSE = 0.01, RMSE = 0.11, pearson_coef, p_value = (0.94, 0.00)\n",
        "Test scores for  RHipMomentY : MSE = 0.00, RMSE = 0.11, pearson_coef, p_value = (0.94, 0.00)\n",
        "Test scores for  RHipMomentZ : MSE = 0.04, RMSE = 0.11, pearson_coef, p_value = (0.94, 0.00)\n",
        "Test scores for  LHipMomentX : MSE = 0.01, RMSE = 0.11, pearson_coef, p_value = (0.94, 0.00)\n",
        "Test scores for  LHipMomentY : MSE = 0.00, RMSE = 0.11, pearson_coef, p_value = (0.94, 0.00)\n",
        "Test scores for  LHipMomentZ : MSE = 0.03, RMSE = 0.11, pearson_coef, p_value = (0.94, 0.00)\n",
        "Test scores for  RKneeMomentX : MSE = 0.01, RMSE = 0.11, pearson_coef, p_value = (0.94, 0.00)\n",
        "Test scores for  RKneeMomentY : MSE = 0.00, RMSE = 0.11, pearson_coef, p_value = (0.94, 0.00)\n",
        "Test scores for  RKneeMomentZ : MSE = 0.03, RMSE = 0.11, pearson_coef, p_value = (0.94, 0.00)\n",
        "Test scores for  LKneeMomentX : MSE = 0.01, RMSE = 0.11, pearson_coef, p_value = (0.94, 0.00)\n",
        "Test scores for  LKneeMomentY : MSE = 0.00, RMSE = 0.11, pearson_coef, p_value = (0.94, 0.00)\n",
        "Test scores for  LKneeMomentZ : MSE = 0.03, RMSE = 0.11, pearson_coef, p_value = (0.94, 0.00)\n",
        "Test scores for  RAnkleMomentX : MSE = 0.00, RMSE = 0.11, pearson_coef, p_value = (0.94, 0.00)\n",
        "Test scores for  RAnkleMomentY : MSE = 0.01, RMSE = 0.11, pearson_coef, p_value = (0.94, 0.00)\n",
        "Test scores for  RAnkleMomentZ : MSE = 0.03, RMSE = 0.11, pearson_coef, p_value = (0.94, 0.00)\n",
        "Test scores for  LAnkleMomentX : MSE = 0.00, RMSE = 0.11, pearson_coef, p_value = (0.94, 0.00)\n",
        "Test scores for  LAnkleMomentY : MSE = 0.00, RMSE = 0.11, pearson_coef, p_value = (0.94, 0.00)\n",
        "Test scores for  LAnkleMomentZ : MSE = 0.02, RMSE = 0.11, pearson_coef, p_value = (0.94, 0.00)\n",
        "Average scores: MSE = 0.01, RMSE = 0.10, p = 0.82\n",
        "\n",
        "\n",
        "## Discussion\n",
        "1. Applied state-of-the art neural net architecture for time series classification\n",
        "2. We showed how to classify gait gender with using an LSTM architecture.\n",
        "\n",
        "Use mountains images to generate artificial curves motivated by the fact that patterns repeats in different objects and actions in Nature.\n",
        "\n",
        "##Conclusion\n",
        "\n",
        "1. Train-test split must leave subjects out of train set, otherwise the model might learn about test data at training\n",
        "3. The classification accuracy reveals that it is a difficult task (perhaps that there is a lack of data volume)\n",
        "\n",
        "## Further work\n",
        "\n",
        "1. E.g. gender classification could be beneficiated done using the raw image \n",
        "2. development of synthetic ‘benchmarking’ datasets for gait"
      ]
    }
  ]
}